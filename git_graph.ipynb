{
 "cells": [
  {
   "cell_type": "markdown",
   "id": "ded38e26",
   "metadata": {},
   "source": [
    "# Git commit graph, looking upwards from a `HEAD` commit\n",
    "\n",
    "SPDX-License-Identifier: 0BSD\n",
    "\n",
    "An actual graph points from newer commits to their temporal ancestors, but\n",
    "I&rsquo;ve shown the transpose (i.e., reversed) graph."
   ]
  },
  {
   "cell_type": "code",
   "execution_count": 1,
   "id": "a8eabf6a",
   "metadata": {},
   "outputs": [],
   "source": [
    "import os\n",
    "\n",
    "import graphviz\n",
    "import pygit2\n",
    "from typeguard import typechecked"
   ]
  },
  {
   "cell_type": "code",
   "execution_count": 2,
   "id": "2f4a0399",
   "metadata": {},
   "outputs": [],
   "source": [
    "# The font commit hashes and messages will be written in, in rendered graphs.\n",
    "NODE_LABEL_FONT = 'Segoe UI' if os.name == 'nt' else 'Helvetica'"
   ]
  },
  {
   "cell_type": "code",
   "execution_count": 3,
   "id": "9453163e",
   "metadata": {},
   "outputs": [],
   "source": [
    "@typechecked\n",
    "def show(repo_path: str) -> graphviz.Digraph:\n",
    "    \"\"\"Create a Graphviz graph of a Git repository.\"\"\"\n",
    "    repo = pygit2.Repository(repo_path)\n",
    "    commits = set()\n",
    "    graph = graphviz.Digraph()\n",
    "\n",
    "    @typechecked\n",
    "    def visit(commit: pygit2.Commit) -> None:\n",
    "        if commit in commits:\n",
    "            return\n",
    "        commits.add(commit)\n",
    "        short_hash = commit.hex[:7]\n",
    "        short_message = commit.message.split('\\n\\n')[0]\n",
    "        graph.node(commit.hex, label=f'{short_hash}\\n{short_message}',\n",
    "                   shape='plain', fontname=NODE_LABEL_FONT, fontsize='12')\n",
    "\n",
    "    visit(repo[repo.head.target])\n",
    "\n",
    "    for child in repo.walk(repo.head.target):\n",
    "        for parent in child.parents:\n",
    "            visit(parent)\n",
    "            graph.edge(parent.hex, child.hex)\n",
    "\n",
    "    return graph"
   ]
  },
  {
   "cell_type": "code",
   "execution_count": 4,
   "id": "939ce962",
   "metadata": {},
   "outputs": [
    {
     "ename": "AttributeError",
     "evalue": "'_pygit2.Commit' object has no attribute 'hex'",
     "output_type": "error",
     "traceback": [
      "\u001b[31m---------------------------------------------------------------------------\u001b[39m",
      "\u001b[31mAttributeError\u001b[39m                            Traceback (most recent call last)",
      "\u001b[36mCell\u001b[39m\u001b[36m \u001b[39m\u001b[32mIn[4]\u001b[39m\u001b[32m, line 1\u001b[39m\n\u001b[32m----> \u001b[39m\u001b[32m1\u001b[39m \u001b[43mshow\u001b[49m\u001b[43m(\u001b[49m\u001b[33;43m'\u001b[39;49m\u001b[33;43m.\u001b[39;49m\u001b[33;43m'\u001b[39;49m\u001b[43m)\u001b[49m\n",
      "\u001b[36mFile \u001b[39m\u001b[32mc:\\Users\\ek\\.virtualenvs\\codegraph-lYh-r7nx\\Lib\\site-packages\\typeguard\\__init__.py:1033\u001b[39m, in \u001b[36mtypechecked.<locals>.wrapper\u001b[39m\u001b[34m(*args, **kwargs)\u001b[39m\n\u001b[32m   1031\u001b[39m memo = _CallMemo(python_func, _localns, args=args, kwargs=kwargs)\n\u001b[32m   1032\u001b[39m check_argument_types(memo)\n\u001b[32m-> \u001b[39m\u001b[32m1033\u001b[39m retval = \u001b[43mfunc\u001b[49m\u001b[43m(\u001b[49m\u001b[43m*\u001b[49m\u001b[43margs\u001b[49m\u001b[43m,\u001b[49m\u001b[43m \u001b[49m\u001b[43m*\u001b[49m\u001b[43m*\u001b[49m\u001b[43mkwargs\u001b[49m\u001b[43m)\u001b[49m\n\u001b[32m   1034\u001b[39m \u001b[38;5;28;01mtry\u001b[39;00m:\n\u001b[32m   1035\u001b[39m     check_return_type(retval, memo)\n",
      "\u001b[36mCell\u001b[39m\u001b[36m \u001b[39m\u001b[32mIn[3]\u001b[39m\u001b[32m, line 18\u001b[39m, in \u001b[36mshow\u001b[39m\u001b[34m(repo_path)\u001b[39m\n\u001b[32m     14\u001b[39m     short_message = commit.message.split(\u001b[33m'\u001b[39m\u001b[38;5;130;01m\\n\u001b[39;00m\u001b[38;5;130;01m\\n\u001b[39;00m\u001b[33m'\u001b[39m)[\u001b[32m0\u001b[39m]\n\u001b[32m     15\u001b[39m     graph.node(commit.hex, label=\u001b[33mf\u001b[39m\u001b[33m'\u001b[39m\u001b[38;5;132;01m{\u001b[39;00mshort_hash\u001b[38;5;132;01m}\u001b[39;00m\u001b[38;5;130;01m\\n\u001b[39;00m\u001b[38;5;132;01m{\u001b[39;00mshort_message\u001b[38;5;132;01m}\u001b[39;00m\u001b[33m'\u001b[39m,\n\u001b[32m     16\u001b[39m                shape=\u001b[33m'\u001b[39m\u001b[33mplain\u001b[39m\u001b[33m'\u001b[39m, fontname=NODE_LABEL_FONT, fontsize=\u001b[33m'\u001b[39m\u001b[33m12\u001b[39m\u001b[33m'\u001b[39m)\n\u001b[32m---> \u001b[39m\u001b[32m18\u001b[39m \u001b[43mvisit\u001b[49m\u001b[43m(\u001b[49m\u001b[43mrepo\u001b[49m\u001b[43m[\u001b[49m\u001b[43mrepo\u001b[49m\u001b[43m.\u001b[49m\u001b[43mhead\u001b[49m\u001b[43m.\u001b[49m\u001b[43mtarget\u001b[49m\u001b[43m]\u001b[49m\u001b[43m)\u001b[49m\n\u001b[32m     20\u001b[39m \u001b[38;5;28;01mfor\u001b[39;00m child \u001b[38;5;129;01min\u001b[39;00m repo.walk(repo.head.target):\n\u001b[32m     21\u001b[39m     \u001b[38;5;28;01mfor\u001b[39;00m parent \u001b[38;5;129;01min\u001b[39;00m child.parents:\n",
      "\u001b[36mFile \u001b[39m\u001b[32mc:\\Users\\ek\\.virtualenvs\\codegraph-lYh-r7nx\\Lib\\site-packages\\typeguard\\__init__.py:1033\u001b[39m, in \u001b[36mtypechecked.<locals>.wrapper\u001b[39m\u001b[34m(*args, **kwargs)\u001b[39m\n\u001b[32m   1031\u001b[39m memo = _CallMemo(python_func, _localns, args=args, kwargs=kwargs)\n\u001b[32m   1032\u001b[39m check_argument_types(memo)\n\u001b[32m-> \u001b[39m\u001b[32m1033\u001b[39m retval = \u001b[43mfunc\u001b[49m\u001b[43m(\u001b[49m\u001b[43m*\u001b[49m\u001b[43margs\u001b[49m\u001b[43m,\u001b[49m\u001b[43m \u001b[49m\u001b[43m*\u001b[49m\u001b[43m*\u001b[49m\u001b[43mkwargs\u001b[49m\u001b[43m)\u001b[49m\n\u001b[32m   1034\u001b[39m \u001b[38;5;28;01mtry\u001b[39;00m:\n\u001b[32m   1035\u001b[39m     check_return_type(retval, memo)\n",
      "\u001b[36mCell\u001b[39m\u001b[36m \u001b[39m\u001b[32mIn[3]\u001b[39m\u001b[32m, line 13\u001b[39m, in \u001b[36mshow.<locals>.visit\u001b[39m\u001b[34m(commit)\u001b[39m\n\u001b[32m     11\u001b[39m     \u001b[38;5;28;01mreturn\u001b[39;00m\n\u001b[32m     12\u001b[39m commits.add(commit)\n\u001b[32m---> \u001b[39m\u001b[32m13\u001b[39m short_hash = \u001b[43mcommit\u001b[49m\u001b[43m.\u001b[49m\u001b[43mhex\u001b[49m[:\u001b[32m7\u001b[39m]\n\u001b[32m     14\u001b[39m short_message = commit.message.split(\u001b[33m'\u001b[39m\u001b[38;5;130;01m\\n\u001b[39;00m\u001b[38;5;130;01m\\n\u001b[39;00m\u001b[33m'\u001b[39m)[\u001b[32m0\u001b[39m]\n\u001b[32m     15\u001b[39m graph.node(commit.hex, label=\u001b[33mf\u001b[39m\u001b[33m'\u001b[39m\u001b[38;5;132;01m{\u001b[39;00mshort_hash\u001b[38;5;132;01m}\u001b[39;00m\u001b[38;5;130;01m\\n\u001b[39;00m\u001b[38;5;132;01m{\u001b[39;00mshort_message\u001b[38;5;132;01m}\u001b[39;00m\u001b[33m'\u001b[39m,\n\u001b[32m     16\u001b[39m            shape=\u001b[33m'\u001b[39m\u001b[33mplain\u001b[39m\u001b[33m'\u001b[39m, fontname=NODE_LABEL_FONT, fontsize=\u001b[33m'\u001b[39m\u001b[33m12\u001b[39m\u001b[33m'\u001b[39m)\n",
      "\u001b[31mAttributeError\u001b[39m: '_pygit2.Commit' object has no attribute 'hex'"
     ]
    }
   ],
   "source": [
    "show('.')"
   ]
  },
  {
   "cell_type": "code",
   "execution_count": null,
   "id": "926d64cb",
   "metadata": {},
   "outputs": [],
   "source": [
    "show('../Flood')"
   ]
  },
  {
   "cell_type": "code",
   "execution_count": null,
   "id": "2e500c94",
   "metadata": {},
   "outputs": [],
   "source": []
  }
 ],
 "metadata": {
  "kernelspec": {
   "display_name": "codegraph-lYh-r7nx",
   "language": "python",
   "name": "python3"
  },
  "language_info": {
   "codemirror_mode": {
    "name": "ipython",
    "version": 3
   },
   "file_extension": ".py",
   "mimetype": "text/x-python",
   "name": "python",
   "nbconvert_exporter": "python",
   "pygments_lexer": "ipython3",
   "version": "3.13.3"
  }
 },
 "nbformat": 4,
 "nbformat_minor": 5
}
