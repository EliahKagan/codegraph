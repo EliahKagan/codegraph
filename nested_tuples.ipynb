{
 "cells": [
  {
   "attachments": {},
   "cell_type": "markdown",
   "id": "316f77b4-91fb-4cec-9181-9df9186c1a80",
   "metadata": {},
   "source": [
    "# Reference graph from nested tuples\n",
    "\n",
    "SPDX-License-Identifier: 0BSD\n",
    "\n",
    "See `nested_sequences.ipynb` for a more sophisticated (but more complicated) version that handles more general sequences rather than just tuples."
   ]
  },
  {
   "cell_type": "code",
   "execution_count": 1,
   "id": "8744025f-219f-4475-b9a2-a7418091da65",
   "metadata": {},
   "outputs": [],
   "source": [
    "import html\n",
    "import itertools\n",
    "\n",
    "from graphviz import Digraph\n",
    "from typeguard import typechecked"
   ]
  },
  {
   "cell_type": "code",
   "execution_count": 2,
   "id": "66d7a98d-ccf1-4254-b128-c339ee5057b4",
   "metadata": {},
   "outputs": [
    {
     "ename": "TypeError",
     "evalue": "<module '__main__'> is a built-in module",
     "output_type": "error",
     "traceback": [
      "\u001b[0;31m---------------------------------------------------------------------------\u001b[0m",
      "\u001b[0;31mTypeError\u001b[0m                                 Traceback (most recent call last)",
      "Cell \u001b[0;32mIn[2], line 1\u001b[0m\n\u001b[0;32m----> 1\u001b[0m \u001b[39m@typechecked\u001b[39;49m\n\u001b[1;32m      2\u001b[0m \u001b[39mdef\u001b[39;49;00m \u001b[39mbuild_graph\u001b[39;49m(root: \u001b[39mobject\u001b[39;49m) \u001b[39m-\u001b[39;49m\u001b[39m>\u001b[39;49m Digraph:\n\u001b[1;32m      3\u001b[0m \u001b[39m    \u001b[39;49m\u001b[39m\"\"\"Build a directed graph of references in a nested tuple.\"\"\"\u001b[39;49;00m\n\u001b[1;32m      4\u001b[0m     graph \u001b[39m=\u001b[39;49m Digraph()\n",
      "File \u001b[0;32m~/miniforge3/envs/codegraph/lib/python3.11/site-packages/typeguard/_decorators.py:213\u001b[0m, in \u001b[0;36mtypechecked\u001b[0;34m(target, forward_ref_policy, typecheck_fail_callback, collection_check_strategy, debug_instrumentation)\u001b[0m\n\u001b[1;32m    210\u001b[0m     wrapper_class \u001b[39m=\u001b[39m target\u001b[39m.\u001b[39m\u001b[39m__class__\u001b[39m\n\u001b[1;32m    211\u001b[0m     target \u001b[39m=\u001b[39m target\u001b[39m.\u001b[39m\u001b[39m__func__\u001b[39m\n\u001b[0;32m--> 213\u001b[0m retval \u001b[39m=\u001b[39m instrument(target)\n\u001b[1;32m    214\u001b[0m \u001b[39mif\u001b[39;00m \u001b[39misinstance\u001b[39m(retval, \u001b[39mstr\u001b[39m):\n\u001b[1;32m    215\u001b[0m     warn(\n\u001b[1;32m    216\u001b[0m         \u001b[39mf\u001b[39m\u001b[39m\"\u001b[39m\u001b[39m{\u001b[39;00mretval\u001b[39m}\u001b[39;00m\u001b[39m -- not typechecking \u001b[39m\u001b[39m{\u001b[39;00mfunction_name(target)\u001b[39m}\u001b[39;00m\u001b[39m\"\u001b[39m,\n\u001b[1;32m    217\u001b[0m         InstrumentationWarning,\n\u001b[1;32m    218\u001b[0m         stacklevel\u001b[39m=\u001b[39mget_stacklevel(),\n\u001b[1;32m    219\u001b[0m     )\n",
      "File \u001b[0;32m~/miniforge3/envs/codegraph/lib/python3.11/site-packages/typeguard/_decorators.py:51\u001b[0m, in \u001b[0;36minstrument\u001b[0;34m(f)\u001b[0m\n\u001b[1;32m     45\u001b[0m     \u001b[39mreturn\u001b[39;00m (\n\u001b[1;32m     46\u001b[0m         \u001b[39m\"\u001b[39m\u001b[39m@typechecked only supports instrumenting functions wrapped with \u001b[39m\u001b[39m\"\u001b[39m\n\u001b[1;32m     47\u001b[0m         \u001b[39m\"\u001b[39m\u001b[39m@classmethod, @staticmethod or @property\u001b[39m\u001b[39m\"\u001b[39m\n\u001b[1;32m     48\u001b[0m     )\n\u001b[1;32m     50\u001b[0m target_path \u001b[39m=\u001b[39m [item \u001b[39mfor\u001b[39;00m item \u001b[39min\u001b[39;00m f\u001b[39m.\u001b[39m\u001b[39m__qualname__\u001b[39m\u001b[39m.\u001b[39msplit(\u001b[39m\"\u001b[39m\u001b[39m.\u001b[39m\u001b[39m\"\u001b[39m) \u001b[39mif\u001b[39;00m item \u001b[39m!=\u001b[39m \u001b[39m\"\u001b[39m\u001b[39m<locals>\u001b[39m\u001b[39m\"\u001b[39m]\n\u001b[0;32m---> 51\u001b[0m module_source \u001b[39m=\u001b[39m inspect\u001b[39m.\u001b[39;49mgetsource(sys\u001b[39m.\u001b[39;49mmodules[f\u001b[39m.\u001b[39;49m\u001b[39m__module__\u001b[39;49m])\n\u001b[1;32m     52\u001b[0m module_ast \u001b[39m=\u001b[39m ast\u001b[39m.\u001b[39mparse(module_source)\n\u001b[1;32m     53\u001b[0m instrumentor \u001b[39m=\u001b[39m TypeguardTransformer(target_path)\n",
      "File \u001b[0;32m~/miniforge3/envs/codegraph/lib/python3.11/inspect.py:1262\u001b[0m, in \u001b[0;36mgetsource\u001b[0;34m(object)\u001b[0m\n\u001b[1;32m   1256\u001b[0m \u001b[39mdef\u001b[39;00m \u001b[39mgetsource\u001b[39m(\u001b[39mobject\u001b[39m):\n\u001b[1;32m   1257\u001b[0m \u001b[39m    \u001b[39m\u001b[39m\"\"\"Return the text of the source code for an object.\u001b[39;00m\n\u001b[1;32m   1258\u001b[0m \n\u001b[1;32m   1259\u001b[0m \u001b[39m    The argument may be a module, class, method, function, traceback, frame,\u001b[39;00m\n\u001b[1;32m   1260\u001b[0m \u001b[39m    or code object.  The source code is returned as a single string.  An\u001b[39;00m\n\u001b[1;32m   1261\u001b[0m \u001b[39m    OSError is raised if the source code cannot be retrieved.\"\"\"\u001b[39;00m\n\u001b[0;32m-> 1262\u001b[0m     lines, lnum \u001b[39m=\u001b[39m getsourcelines(\u001b[39mobject\u001b[39;49m)\n\u001b[1;32m   1263\u001b[0m     \u001b[39mreturn\u001b[39;00m \u001b[39m'\u001b[39m\u001b[39m'\u001b[39m\u001b[39m.\u001b[39mjoin(lines)\n",
      "File \u001b[0;32m~/miniforge3/envs/codegraph/lib/python3.11/inspect.py:1244\u001b[0m, in \u001b[0;36mgetsourcelines\u001b[0;34m(object)\u001b[0m\n\u001b[1;32m   1236\u001b[0m \u001b[39m\u001b[39m\u001b[39m\"\"\"Return a list of source lines and starting line number for an object.\u001b[39;00m\n\u001b[1;32m   1237\u001b[0m \n\u001b[1;32m   1238\u001b[0m \u001b[39mThe argument may be a module, class, method, function, traceback, frame,\u001b[39;00m\n\u001b[0;32m   (...)\u001b[0m\n\u001b[1;32m   1241\u001b[0m \u001b[39moriginal source file the first line of code was found.  An OSError is\u001b[39;00m\n\u001b[1;32m   1242\u001b[0m \u001b[39mraised if the source code cannot be retrieved.\"\"\"\u001b[39;00m\n\u001b[1;32m   1243\u001b[0m \u001b[39mobject\u001b[39m \u001b[39m=\u001b[39m unwrap(\u001b[39mobject\u001b[39m)\n\u001b[0;32m-> 1244\u001b[0m lines, lnum \u001b[39m=\u001b[39m findsource(\u001b[39mobject\u001b[39;49m)\n\u001b[1;32m   1246\u001b[0m \u001b[39mif\u001b[39;00m istraceback(\u001b[39mobject\u001b[39m):\n\u001b[1;32m   1247\u001b[0m     \u001b[39mobject\u001b[39m \u001b[39m=\u001b[39m \u001b[39mobject\u001b[39m\u001b[39m.\u001b[39mtb_frame\n",
      "File \u001b[0;32m~/miniforge3/envs/codegraph/lib/python3.11/inspect.py:1063\u001b[0m, in \u001b[0;36mfindsource\u001b[0;34m(object)\u001b[0m\n\u001b[1;32m   1055\u001b[0m \u001b[39mdef\u001b[39;00m \u001b[39mfindsource\u001b[39m(\u001b[39mobject\u001b[39m):\n\u001b[1;32m   1056\u001b[0m \u001b[39m    \u001b[39m\u001b[39m\"\"\"Return the entire source file and starting line number for an object.\u001b[39;00m\n\u001b[1;32m   1057\u001b[0m \n\u001b[1;32m   1058\u001b[0m \u001b[39m    The argument may be a module, class, method, function, traceback, frame,\u001b[39;00m\n\u001b[1;32m   1059\u001b[0m \u001b[39m    or code object.  The source code is returned as a list of all the lines\u001b[39;00m\n\u001b[1;32m   1060\u001b[0m \u001b[39m    in the file and the line number indexes a line in that list.  An OSError\u001b[39;00m\n\u001b[1;32m   1061\u001b[0m \u001b[39m    is raised if the source code cannot be retrieved.\"\"\"\u001b[39;00m\n\u001b[0;32m-> 1063\u001b[0m     file \u001b[39m=\u001b[39m getsourcefile(\u001b[39mobject\u001b[39;49m)\n\u001b[1;32m   1064\u001b[0m     \u001b[39mif\u001b[39;00m file:\n\u001b[1;32m   1065\u001b[0m         \u001b[39m# Invalidate cache if needed.\u001b[39;00m\n\u001b[1;32m   1066\u001b[0m         linecache\u001b[39m.\u001b[39mcheckcache(file)\n",
      "File \u001b[0;32m~/miniforge3/envs/codegraph/lib/python3.11/inspect.py:940\u001b[0m, in \u001b[0;36mgetsourcefile\u001b[0;34m(object)\u001b[0m\n\u001b[1;32m    936\u001b[0m \u001b[39mdef\u001b[39;00m \u001b[39mgetsourcefile\u001b[39m(\u001b[39mobject\u001b[39m):\n\u001b[1;32m    937\u001b[0m \u001b[39m    \u001b[39m\u001b[39m\"\"\"Return the filename that can be used to locate an object's source.\u001b[39;00m\n\u001b[1;32m    938\u001b[0m \u001b[39m    Return None if no way can be identified to get the source.\u001b[39;00m\n\u001b[1;32m    939\u001b[0m \u001b[39m    \"\"\"\u001b[39;00m\n\u001b[0;32m--> 940\u001b[0m     filename \u001b[39m=\u001b[39m getfile(\u001b[39mobject\u001b[39;49m)\n\u001b[1;32m    941\u001b[0m     all_bytecode_suffixes \u001b[39m=\u001b[39m importlib\u001b[39m.\u001b[39mmachinery\u001b[39m.\u001b[39mDEBUG_BYTECODE_SUFFIXES[:]\n\u001b[1;32m    942\u001b[0m     all_bytecode_suffixes \u001b[39m+\u001b[39m\u001b[39m=\u001b[39m importlib\u001b[39m.\u001b[39mmachinery\u001b[39m.\u001b[39mOPTIMIZED_BYTECODE_SUFFIXES[:]\n",
      "File \u001b[0;32m~/miniforge3/envs/codegraph/lib/python3.11/inspect.py:901\u001b[0m, in \u001b[0;36mgetfile\u001b[0;34m(object)\u001b[0m\n\u001b[1;32m    899\u001b[0m     \u001b[39mif\u001b[39;00m \u001b[39mgetattr\u001b[39m(\u001b[39mobject\u001b[39m, \u001b[39m'\u001b[39m\u001b[39m__file__\u001b[39m\u001b[39m'\u001b[39m, \u001b[39mNone\u001b[39;00m):\n\u001b[1;32m    900\u001b[0m         \u001b[39mreturn\u001b[39;00m \u001b[39mobject\u001b[39m\u001b[39m.\u001b[39m\u001b[39m__file__\u001b[39m\n\u001b[0;32m--> 901\u001b[0m     \u001b[39mraise\u001b[39;00m \u001b[39mTypeError\u001b[39;00m(\u001b[39m'\u001b[39m\u001b[39m{!r}\u001b[39;00m\u001b[39m is a built-in module\u001b[39m\u001b[39m'\u001b[39m\u001b[39m.\u001b[39mformat(\u001b[39mobject\u001b[39m))\n\u001b[1;32m    902\u001b[0m \u001b[39mif\u001b[39;00m isclass(\u001b[39mobject\u001b[39m):\n\u001b[1;32m    903\u001b[0m     \u001b[39mif\u001b[39;00m \u001b[39mhasattr\u001b[39m(\u001b[39mobject\u001b[39m, \u001b[39m'\u001b[39m\u001b[39m__module__\u001b[39m\u001b[39m'\u001b[39m):\n",
      "\u001b[0;31mTypeError\u001b[0m: <module '__main__'> is a built-in module"
     ]
    }
   ],
   "source": [
    "@typechecked\n",
    "def build_graph(root: object) -> Digraph:\n",
    "    \"\"\"Build a directed graph of references in a nested tuple.\"\"\"\n",
    "    graph = Digraph()\n",
    "    visited_ids = set[int]()\n",
    "    \n",
    "    @typechecked\n",
    "    def draw(node: object) -> None:\n",
    "        if id(node) in visited_ids:\n",
    "            return\n",
    "        \n",
    "        visited_ids.add(id(node))\n",
    "        \n",
    "        if not isinstance(node, tuple):\n",
    "            graph.node(str(id(node)), label=html.escape(repr(node)))\n",
    "            return\n",
    "        \n",
    "        graph.node(str(id(node)), shape='point')\n",
    "        \n",
    "        for child in node:\n",
    "            draw(child)\n",
    "            graph.edge(str(id(node)), str(id(child)))\n",
    "    \n",
    "    draw(root)\n",
    "    return graph"
   ]
  },
  {
   "cell_type": "code",
   "execution_count": null,
   "id": "e6cbeb86-da01-4b2c-ba9d-322183b6e76d",
   "metadata": {},
   "outputs": [],
   "source": [
    "build_graph(3)"
   ]
  },
  {
   "cell_type": "code",
   "execution_count": null,
   "id": "b23c50b9-199d-4cb4-b9cc-c738cd9a8d95",
   "metadata": {},
   "outputs": [],
   "source": [
    "build_graph((3,))"
   ]
  },
  {
   "cell_type": "code",
   "execution_count": null,
   "id": "cbcdf7c9-aad2-401b-9395-5427688b2f0a",
   "metadata": {},
   "outputs": [],
   "source": [
    "build_graph((2**64, 2**64))"
   ]
  },
  {
   "cell_type": "code",
   "execution_count": null,
   "id": "f6ea3a9e-8897-4a1b-a83c-15c92f6a6604",
   "metadata": {},
   "outputs": [],
   "source": [
    "build_graph((2**65, 2**65))"
   ]
  },
  {
   "cell_type": "code",
   "execution_count": null,
   "id": "34cb5823-4ce2-4192-9a3b-9e917f3899fa",
   "metadata": {},
   "outputs": [],
   "source": [
    "# It is an implementation detail whether structurally equal (sub)tuples\n",
    "# are the same or different objects. That affects what gets drawn.\n",
    "t = ((((0, 1), (1, (0, 1))), ((1, (0, 1)), ((0, 1), (1, (0, 1))))),\n",
    "     (((1, (0, 1)), ((0, 1), (1, (0, 1)))),\n",
    "      (((0, 1), (1, (0, 1))), ((1, (0, 1)), ((0, 1), (1, (0, 1)))))))\n",
    "build_graph(t)"
   ]
  },
  {
   "cell_type": "code",
   "execution_count": null,
   "id": "095ca851-c4a2-403c-bff3-ed15ad0b01e1",
   "metadata": {},
   "outputs": [],
   "source": [
    "build_graph((10, ((20, 30), (40, (50, (60,))))))"
   ]
  },
  {
   "cell_type": "code",
   "execution_count": null,
   "id": "9ca18d27-8437-462b-b18a-a3c3cd98ad69",
   "metadata": {},
   "outputs": [],
   "source": [
    "def nest(seed, degree, height):\n",
    "    return seed if height == 0 else nest((seed,) * degree, degree, height - 1)"
   ]
  },
  {
   "cell_type": "code",
   "execution_count": null,
   "id": "ce3bd988-dfd2-4e0b-bcac-7aaa9432d431",
   "metadata": {},
   "outputs": [],
   "source": [
    "t = nest(7, 2, 10)\n",
    "repr(t).count('7')"
   ]
  },
  {
   "cell_type": "code",
   "execution_count": null,
   "id": "610e15b6-06d1-464f-99a9-16f2dde3ba53",
   "metadata": {},
   "outputs": [],
   "source": [
    "build_graph(t)"
   ]
  },
  {
   "cell_type": "code",
   "execution_count": null,
   "id": "bbad7059-c893-4f02-86dd-d5484cbb34b7",
   "metadata": {},
   "outputs": [],
   "source": [
    "build_graph((10, ([20, 30], [40, (50, [60])])))"
   ]
  },
  {
   "cell_type": "code",
   "execution_count": null,
   "id": "9227895f-518b-4754-827c-60f0cc493563",
   "metadata": {},
   "outputs": [],
   "source": [
    "build_graph(lambda x: x)    # Test escaping."
   ]
  }
 ],
 "metadata": {
  "kernelspec": {
   "display_name": "Python 3 (ipykernel)",
   "language": "python",
   "name": "python3"
  },
  "language_info": {
   "codemirror_mode": {
    "name": "ipython",
    "version": 3
   },
   "file_extension": ".py",
   "mimetype": "text/x-python",
   "name": "python",
   "nbconvert_exporter": "python",
   "pygments_lexer": "ipython3",
   "version": "3.11.4"
  }
 },
 "nbformat": 4,
 "nbformat_minor": 5
}
