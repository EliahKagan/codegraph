{
 "cells": [
  {
   "attachments": {},
   "cell_type": "markdown",
   "metadata": {},
   "source": [
    "# Text and graphical YAML representations\n",
    "\n",
    "SPDX-License-Identifier: 0BSD"
   ]
  },
  {
   "cell_type": "code",
   "execution_count": 1,
   "metadata": {},
   "outputs": [],
   "source": [
    "from collections.abc import Mapping, Sequence\n",
    "import html\n",
    "import itertools\n",
    "import json\n",
    "import sys\n",
    "\n",
    "from graphviz import Digraph\n",
    "import requests\n",
    "from typeguard import typechecked\n",
    "import yaml"
   ]
  },
  {
   "cell_type": "code",
   "execution_count": 2,
   "metadata": {},
   "outputs": [],
   "source": [
    "@typechecked\n",
    "def is_stringy(obj: object) -> bool:\n",
    "    \"\"\"Check if obj is string-like.\"\"\"\n",
    "    return isinstance(obj, bytearray | bytes | str)"
   ]
  },
  {
   "cell_type": "code",
   "execution_count": 3,
   "metadata": {},
   "outputs": [],
   "source": [
    "@typechecked\n",
    "def is_scalar(obj: object) -> bool:\n",
    "    \"\"\"Check if obj is an instance of a scalar type.\"\"\"\n",
    "    return (not isinstance(obj, Mapping | Sequence)\n",
    "            or isinstance(obj, bytearray | bytes | str))"
   ]
  },
  {
   "cell_type": "code",
   "execution_count": 4,
   "metadata": {},
   "outputs": [],
   "source": [
    "@typechecked\n",
    "def make_label(obj: object) -> str:\n",
    "    \"\"\"Make an HTML-escaped vertex or edge label showing the repr of obj.\"\"\"\n",
    "    return html.escape(repr(obj))"
   ]
  },
  {
   "cell_type": "code",
   "execution_count": 5,
   "metadata": {},
   "outputs": [],
   "source": [
    "@typechecked\n",
    "def build_graph(root: object) -> Digraph:\n",
    "    \"\"\"Build a digraph of references that may be deserialized YAML.\"\"\"\n",
    "    vis = dict[int, object]()  # Stores visitation info and keeps objects alive.\n",
    "    graph = Digraph()\n",
    "    leaf_counter = itertools.count()\n",
    "    no_key = object()\n",
    "\n",
    "    @typechecked\n",
    "    def add_edge(parent_name: str | None,\n",
    "                 current_name: str,\n",
    "                 current_key: object) -> None:\n",
    "        if parent_name is None:\n",
    "            return\n",
    "\n",
    "        if current_key is no_key:\n",
    "            graph.edge(parent_name, current_name)\n",
    "        else:\n",
    "            graph.edge(parent_name, current_name, make_label(current_key))\n",
    "\n",
    "    @typechecked\n",
    "    def dfs(parent_name: str | None,\n",
    "            current_key: object,\n",
    "            current_value: object) -> None:\n",
    "        if is_scalar(current_value):\n",
    "            current_name = f'leaf-{next(leaf_counter)}'\n",
    "            graph.node(current_name, label=make_label(current_value))\n",
    "            add_edge(parent_name, current_name, current_key)\n",
    "            return\n",
    "        \n",
    "        current_id = id(current_value)\n",
    "        current_name = str(current_id)\n",
    "        seen_before = current_id in vis\n",
    "\n",
    "        if not seen_before:\n",
    "            vis[current_id] = current_value\n",
    "            graph.node(current_name, shape='point')\n",
    "\n",
    "        add_edge(parent_name, current_name, current_key)\n",
    "\n",
    "        if seen_before:\n",
    "            return\n",
    "        \n",
    "        match current_value:\n",
    "            case Mapping():\n",
    "                for child_key, child_value in current_value.items():\n",
    "                    dfs(current_name, child_key, child_value)\n",
    "            case Sequence():\n",
    "                for child_value in current_value:\n",
    "                    dfs(current_name, no_key, child_value)\n",
    "    \n",
    "    dfs(None, no_key, root)\n",
    "    return graph"
   ]
  },
  {
   "attachments": {},
   "cell_type": "markdown",
   "metadata": {},
   "source": [
    "## Example 1: A simple `environment.yml`"
   ]
  },
  {
   "cell_type": "code",
   "execution_count": 6,
   "metadata": {},
   "outputs": [
    {
     "name": "stdout",
     "output_type": "stream",
     "text": [
      "name: codegraph\n",
      "\n",
      "channels:\n",
      "  - conda-forge\n",
      "\n",
      "dependencies:\n",
      "  - python=3.11\n",
      "  - graphviz\n",
      "  - ipykernel\n",
      "  - jupyterlab>=3.1\n",
      "  - nbdime\n",
      "  - pygit2\n",
      "  - python-graphviz\n",
      "  - pyyaml\n",
      "  - typeguard\n",
      "\n"
     ]
    }
   ],
   "source": [
    "with open('environment.yml', encoding='utf-8') as file:\n",
    "    conda_env_def_raw = file.read()\n",
    "\n",
    "print(conda_env_def_raw)"
   ]
  },
  {
   "cell_type": "code",
   "execution_count": 7,
   "metadata": {},
   "outputs": [
    {
     "data": {
      "text/plain": [
       "{'name': 'codegraph',\n",
       " 'channels': ['conda-forge'],\n",
       " 'dependencies': ['python=3.11',\n",
       "  'graphviz',\n",
       "  'ipykernel',\n",
       "  'jupyterlab>=3.1',\n",
       "  'nbdime',\n",
       "  'pygit2',\n",
       "  'python-graphviz',\n",
       "  'pyyaml',\n",
       "  'typeguard']}"
      ]
     },
     "execution_count": 7,
     "metadata": {},
     "output_type": "execute_result"
    }
   ],
   "source": [
    "conda_env_def = yaml.safe_load(conda_env_def_raw)\n",
    "conda_env_def"
   ]
  },
  {
   "cell_type": "code",
   "execution_count": 8,
   "metadata": {},
   "outputs": [
    {
     "name": "stdout",
     "output_type": "stream",
     "text": [
      "{\n",
      "    \"name\": \"codegraph\",\n",
      "    \"channels\": [\n",
      "        \"conda-forge\"\n",
      "    ],\n",
      "    \"dependencies\": [\n",
      "        \"python=3.11\",\n",
      "        \"graphviz\",\n",
      "        \"ipykernel\",\n",
      "        \"jupyterlab>=3.1\",\n",
      "        \"nbdime\",\n",
      "        \"pygit2\",\n",
      "        \"python-graphviz\",\n",
      "        \"pyyaml\",\n",
      "        \"typeguard\"\n",
      "    ]\n",
      "}"
     ]
    }
   ],
   "source": [
    "json.dump(conda_env_def, sys.stdout, indent=4)"
   ]
  },
  {
   "cell_type": "code",
   "execution_count": 9,
   "metadata": {},
   "outputs": [
    {
     "data": {
      "image/svg+xml": "<?xml version=\"1.0\" encoding=\"UTF-8\" standalone=\"no\"?>\n<!DOCTYPE svg PUBLIC \"-//W3C//DTD SVG 1.1//EN\"\n \"http://www.w3.org/Graphics/SVG/1.1/DTD/svg11.dtd\">\n<!-- Generated by graphviz version 7.1.0 (20230121.1956)\n -->\n<!-- Pages: 1 -->\n<svg width=\"1288pt\" height=\"173pt\"\n viewBox=\"0.00 0.00 1288.29 173.40\" xmlns=\"http://www.w3.org/2000/svg\" xmlns:xlink=\"http://www.w3.org/1999/xlink\">\n<g id=\"graph0\" class=\"graph\" transform=\"scale(1 1) rotate(0) translate(4 169.4)\">\n<polygon fill=\"white\" stroke=\"none\" points=\"-4,4 -4,-169.4 1284.29,-169.4 1284.29,4 -4,4\"/>\n<!-- 140495967709824 -->\n<g id=\"node1\" class=\"node\">\n<title>140495967709824</title>\n<ellipse fill=\"black\" stroke=\"black\" cx=\"290.16\" cy=\"-163.6\" rx=\"1.8\" ry=\"1.8\"/>\n</g>\n<!-- leaf&#45;0 -->\n<g id=\"node2\" class=\"node\">\n<title>leaf&#45;0</title>\n<ellipse fill=\"none\" stroke=\"black\" cx=\"215.16\" cy=\"-91\" rx=\"54.97\" ry=\"18\"/>\n<text text-anchor=\"middle\" x=\"215.16\" y=\"-86.8\" font-family=\"Times,serif\" font-size=\"14.00\">&#39;codegraph&#39;</text>\n</g>\n<!-- 140495967709824&#45;&gt;leaf&#45;0 -->\n<g id=\"edge1\" class=\"edge\">\n<title>140495967709824&#45;&gt;leaf&#45;0</title>\n<path fill=\"none\" stroke=\"black\" d=\"M288.49,-162.14C282.71,-160.5 263.24,-154.42 250.8,-143.8 242.6,-136.79 235.42,-127.48 229.7,-118.68\"/>\n<polygon fill=\"black\" stroke=\"black\" points=\"232.85,-117.13 224.66,-110.41 226.87,-120.77 232.85,-117.13\"/>\n<text text-anchor=\"middle\" x=\"268.85\" y=\"-131.2\" font-family=\"Times,serif\" font-size=\"14.00\">&#39;name&#39;</text>\n</g>\n<!-- 140495967712640 -->\n<g id=\"node3\" class=\"node\">\n<title>140495967712640</title>\n<ellipse fill=\"black\" stroke=\"black\" cx=\"290.16\" cy=\"-91\" rx=\"1.8\" ry=\"1.8\"/>\n</g>\n<!-- 140495967709824&#45;&gt;140495967712640 -->\n<g id=\"edge2\" class=\"edge\">\n<title>140495967709824&#45;&gt;140495967712640</title>\n<path fill=\"none\" stroke=\"black\" d=\"M290.16,-161.37C290.16,-154.72 290.16,-122.6 290.16,-104.48\"/>\n<polygon fill=\"black\" stroke=\"black\" points=\"293.67,-104.56 290.16,-94.56 286.67,-104.56 293.67,-104.56\"/>\n<text text-anchor=\"middle\" x=\"317.18\" y=\"-131.2\" font-family=\"Times,serif\" font-size=\"14.00\">&#39;channels&#39;</text>\n</g>\n<!-- 140495967700800 -->\n<g id=\"node5\" class=\"node\">\n<title>140495967700800</title>\n<ellipse fill=\"black\" stroke=\"black\" cx=\"666.16\" cy=\"-91\" rx=\"1.8\" ry=\"1.8\"/>\n</g>\n<!-- 140495967709824&#45;&gt;140495967700800 -->\n<g id=\"edge4\" class=\"edge\">\n<title>140495967709824&#45;&gt;140495967700800</title>\n<path fill=\"none\" stroke=\"black\" d=\"M291.84,-162.29C315.87,-157.77 591.08,-106.1 653.59,-94.36\"/>\n<polygon fill=\"black\" stroke=\"black\" points=\"653.95,-97.86 663.13,-92.57 652.65,-90.98 653.95,-97.86\"/>\n<text text-anchor=\"middle\" x=\"518.39\" y=\"-131.2\" font-family=\"Times,serif\" font-size=\"14.00\">&#39;dependencies&#39;</text>\n</g>\n<!-- leaf&#45;1 -->\n<g id=\"node4\" class=\"node\">\n<title>leaf&#45;1</title>\n<ellipse fill=\"none\" stroke=\"black\" cx=\"61.16\" cy=\"-18\" rx=\"61.33\" ry=\"18\"/>\n<text text-anchor=\"middle\" x=\"61.16\" y=\"-13.8\" font-family=\"Times,serif\" font-size=\"14.00\">&#39;conda&#45;forge&#39;</text>\n</g>\n<!-- 140495967712640&#45;&gt;leaf&#45;1 -->\n<g id=\"edge3\" class=\"edge\">\n<title>140495967712640&#45;&gt;leaf&#45;1</title>\n<path fill=\"none\" stroke=\"black\" d=\"M289.79,-88.87C288.69,-85.77 285.21,-77.12 279.16,-73 245.81,-50.28 229.4,-64.43 190.16,-55 165,-48.95 137.34,-41.36 114.11,-34.71\"/>\n<polygon fill=\"black\" stroke=\"black\" points=\"115.12,-31.36 104.54,-31.95 113.18,-38.08 115.12,-31.36\"/>\n</g>\n<!-- leaf&#45;2 -->\n<g id=\"node6\" class=\"node\">\n<title>leaf&#45;2</title>\n<ellipse fill=\"none\" stroke=\"black\" cx=\"204.16\" cy=\"-18\" rx=\"63.88\" ry=\"18\"/>\n<text text-anchor=\"middle\" x=\"204.16\" y=\"-13.8\" font-family=\"Times,serif\" font-size=\"14.00\">&#39;python=3.11&#39;</text>\n</g>\n<!-- 140495967700800&#45;&gt;leaf&#45;2 -->\n<g id=\"edge5\" class=\"edge\">\n<title>140495967700800&#45;&gt;leaf&#45;2</title>\n<path fill=\"none\" stroke=\"black\" d=\"M664.26,-89.8C642.53,-87.55 439.4,-66.09 277.16,-36 272.28,-35.09 267.23,-34.08 262.18,-33.01\"/>\n<polygon fill=\"black\" stroke=\"black\" points=\"263.15,-29.64 252.63,-30.93 261.66,-36.48 263.15,-29.64\"/>\n</g>\n<!-- leaf&#45;3 -->\n<g id=\"node7\" class=\"node\">\n<title>leaf&#45;3</title>\n<ellipse fill=\"none\" stroke=\"black\" cx=\"334.16\" cy=\"-18\" rx=\"48.1\" ry=\"18\"/>\n<text text-anchor=\"middle\" x=\"334.16\" y=\"-13.8\" font-family=\"Times,serif\" font-size=\"14.00\">&#39;graphviz&#39;</text>\n</g>\n<!-- 140495967700800&#45;&gt;leaf&#45;3 -->\n<g id=\"edge6\" class=\"edge\">\n<title>140495967700800&#45;&gt;leaf&#45;3</title>\n<path fill=\"none\" stroke=\"black\" d=\"M664.41,-89.72C647.04,-86.96 504.54,-63.97 391.16,-36 387.86,-35.19 384.47,-34.3 381.06,-33.37\"/>\n<polygon fill=\"black\" stroke=\"black\" points=\"382.24,-30.07 371.66,-30.73 380.34,-36.81 382.24,-30.07\"/>\n</g>\n<!-- leaf&#45;4 -->\n<g id=\"node8\" class=\"node\">\n<title>leaf&#45;4</title>\n<ellipse fill=\"none\" stroke=\"black\" cx=\"451.16\" cy=\"-18\" rx=\"50.97\" ry=\"18\"/>\n<text text-anchor=\"middle\" x=\"451.16\" y=\"-13.8\" font-family=\"Times,serif\" font-size=\"14.00\">&#39;ipykernel&#39;</text>\n</g>\n<!-- 140495967700800&#45;&gt;leaf&#45;4 -->\n<g id=\"edge7\" class=\"edge\">\n<title>140495967700800&#45;&gt;leaf&#45;4</title>\n<path fill=\"none\" stroke=\"black\" d=\"M664.79,-89.55C652.27,-85.41 556.93,-53.93 497.93,-34.44\"/>\n<polygon fill=\"black\" stroke=\"black\" points=\"499.39,-31.24 488.8,-31.43 497.2,-37.89 499.39,-31.24\"/>\n</g>\n<!-- leaf&#45;5 -->\n<g id=\"node9\" class=\"node\">\n<title>leaf&#45;5</title>\n<ellipse fill=\"none\" stroke=\"black\" cx=\"597.16\" cy=\"-18\" rx=\"76.76\" ry=\"18\"/>\n<text text-anchor=\"middle\" x=\"597.16\" y=\"-13.8\" font-family=\"Times,serif\" font-size=\"14.00\">&#39;jupyterlab&gt;=3.1&#39;</text>\n</g>\n<!-- 140495967700800&#45;&gt;leaf&#45;5 -->\n<g id=\"edge8\" class=\"edge\">\n<title>140495967700800&#45;&gt;leaf&#45;5</title>\n<path fill=\"none\" stroke=\"black\" d=\"M665.19,-89C660.39,-84.06 638.79,-61.83 621.2,-43.73\"/>\n<polygon fill=\"black\" stroke=\"black\" points=\"624.01,-41.6 614.53,-36.87 618.99,-46.48 624.01,-41.6\"/>\n</g>\n<!-- leaf&#45;6 -->\n<g id=\"node10\" class=\"node\">\n<title>leaf&#45;6</title>\n<ellipse fill=\"none\" stroke=\"black\" cx=\"735.16\" cy=\"-18\" rx=\"43.47\" ry=\"18\"/>\n<text text-anchor=\"middle\" x=\"735.16\" y=\"-13.8\" font-family=\"Times,serif\" font-size=\"14.00\">&#39;nbdime&#39;</text>\n</g>\n<!-- 140495967700800&#45;&gt;leaf&#45;6 -->\n<g id=\"edge9\" class=\"edge\">\n<title>140495967700800&#45;&gt;leaf&#45;6</title>\n<path fill=\"none\" stroke=\"black\" d=\"M667.14,-89C672,-84 694.05,-61.3 711.75,-43.09\"/>\n<polygon fill=\"black\" stroke=\"black\" points=\"713.99,-45.82 718.44,-36.2 708.97,-40.94 713.99,-45.82\"/>\n</g>\n<!-- leaf&#45;7 -->\n<g id=\"node11\" class=\"node\">\n<title>leaf&#45;7</title>\n<ellipse fill=\"none\" stroke=\"black\" cx=\"836.16\" cy=\"-18\" rx=\"39.39\" ry=\"18\"/>\n<text text-anchor=\"middle\" x=\"836.16\" y=\"-13.8\" font-family=\"Times,serif\" font-size=\"14.00\">&#39;pygit2&#39;</text>\n</g>\n<!-- 140495967700800&#45;&gt;leaf&#45;7 -->\n<g id=\"edge10\" class=\"edge\">\n<title>140495967700800&#45;&gt;leaf&#45;7</title>\n<path fill=\"none\" stroke=\"black\" d=\"M667.63,-89.39C678.81,-84.72 751.2,-54.48 797.4,-35.19\"/>\n<polygon fill=\"black\" stroke=\"black\" points=\"798.69,-38.45 806.57,-31.36 795.99,-31.99 798.69,-38.45\"/>\n</g>\n<!-- leaf&#45;8 -->\n<g id=\"node12\" class=\"node\">\n<title>leaf&#45;8</title>\n<ellipse fill=\"none\" stroke=\"black\" cx=\"972.16\" cy=\"-18\" rx=\"78.19\" ry=\"18\"/>\n<text text-anchor=\"middle\" x=\"972.16\" y=\"-13.8\" font-family=\"Times,serif\" font-size=\"14.00\">&#39;python&#45;graphviz&#39;</text>\n</g>\n<!-- 140495967700800&#45;&gt;leaf&#45;8 -->\n<g id=\"edge11\" class=\"edge\">\n<title>140495967700800&#45;&gt;leaf&#45;8</title>\n<path fill=\"none\" stroke=\"black\" d=\"M667.81,-89.62C684.45,-85.76 823.29,-53.54 907.59,-33.98\"/>\n<polygon fill=\"black\" stroke=\"black\" points=\"908.18,-37.44 917.13,-31.77 906.59,-30.62 908.18,-37.44\"/>\n</g>\n<!-- leaf&#45;9 -->\n<g id=\"node13\" class=\"node\">\n<title>leaf&#45;9</title>\n<ellipse fill=\"none\" stroke=\"black\" cx=\"1112.16\" cy=\"-18\" rx=\"43.47\" ry=\"18\"/>\n<text text-anchor=\"middle\" x=\"1112.16\" y=\"-13.8\" font-family=\"Times,serif\" font-size=\"14.00\">&#39;pyyaml&#39;</text>\n</g>\n<!-- 140495967700800&#45;&gt;leaf&#45;9 -->\n<g id=\"edge12\" class=\"edge\">\n<title>140495967700800&#45;&gt;leaf&#45;9</title>\n<path fill=\"none\" stroke=\"black\" d=\"M668.1,-89.86C690.2,-88.3 896.64,-72.94 1059.16,-36 1062.3,-35.29 1065.52,-34.47 1068.74,-33.59\"/>\n<polygon fill=\"black\" stroke=\"black\" points=\"1069.54,-37.01 1078.16,-30.84 1067.58,-30.29 1069.54,-37.01\"/>\n</g>\n<!-- leaf&#45;10 -->\n<g id=\"node14\" class=\"node\">\n<title>leaf&#45;10</title>\n<ellipse fill=\"none\" stroke=\"black\" cx=\"1227.16\" cy=\"-18\" rx=\"53.26\" ry=\"18\"/>\n<text text-anchor=\"middle\" x=\"1227.16\" y=\"-13.8\" font-family=\"Times,serif\" font-size=\"14.00\">&#39;typeguard&#39;</text>\n</g>\n<!-- 140495967700800&#45;&gt;leaf&#45;10 -->\n<g id=\"edge13\" class=\"edge\">\n<title>140495967700800&#45;&gt;leaf&#45;10</title>\n<path fill=\"none\" stroke=\"black\" d=\"M667.97,-89.91C692.21,-88.73 955.62,-75.2 1164.16,-36 1168.43,-35.2 1172.82,-34.26 1177.22,-33.24\"/>\n<polygon fill=\"black\" stroke=\"black\" points=\"1177.72,-36.72 1186.59,-30.92 1176.05,-29.92 1177.72,-36.72\"/>\n</g>\n</g>\n</svg>\n",
      "text/plain": [
       "<graphviz.graphs.Digraph at 0x7fc7c46674d0>"
      ]
     },
     "execution_count": 9,
     "metadata": {},
     "output_type": "execute_result"
    }
   ],
   "source": [
    "build_graph(conda_env_def)"
   ]
  },
  {
   "attachments": {},
   "cell_type": "markdown",
   "metadata": {},
   "source": [
    "## Example 2: A `codeql.yml` file\n",
    "\n",
    "*A file defining a CodeQL CI workflow for GitHub Actions.*"
   ]
  },
  {
   "cell_type": "code",
   "execution_count": 10,
   "metadata": {},
   "outputs": [
    {
     "name": "stdout",
     "output_type": "stream",
     "text": [
      "name: CodeQL\n",
      "\n",
      "on:\n",
      "  push:\n",
      "  pull_request:\n",
      "  schedule:\n",
      "    - cron: '39 4 * * 5'\n",
      "\n",
      "jobs:\n",
      "  analyze:\n",
      "    name: Analyze\n",
      "    runs-on: ubuntu-latest\n",
      "    permissions:\n",
      "      actions: read\n",
      "      contents: read\n",
      "      security-events: write\n",
      "\n",
      "    strategy:\n",
      "      fail-fast: false\n",
      "      matrix:\n",
      "        language: [ 'python' ]\n",
      "        # CodeQL supports [ 'cpp', 'csharp', 'go', 'java', 'javascript', 'python', 'ruby' ]\n",
      "        # Use only 'java' to analyze code written in Java, Kotlin or both\n",
      "        # Use only 'javascript' to analyze code written in JavaScript, TypeScript or both\n",
      "        # Learn more about CodeQL language support at https://aka.ms/codeql-docs/language-support\n",
      "\n",
      "    steps:\n",
      "    - name: Checkout repository\n",
      "      uses: actions/checkout@v3\n",
      "\n",
      "    - name: Set up Python\n",
      "      uses: actions/setup-python@v4\n",
      "      with:\n",
      "        python-version: 3.11\n",
      "\n",
      "    # Initializes the CodeQL tools for scanning.\n",
      "    - name: Initialize CodeQL\n",
      "      uses: github/codeql-action/init@v2\n",
      "      with:\n",
      "        languages: ${{ matrix.language }}\n",
      "        # If you wish to specify custom queries, you can do so here or in a config file.\n",
      "        # By default, queries listed here will override any specified in a config file.\n",
      "        # Prefix the list here with \"+\" to use these queries and those in the config file.\n",
      "\n",
      "        # Details on CodeQL's query packs refer to : https://docs.github.com/en/code-security/code-scanning/automatically-scanning-your-code-for-vulnerabilities-and-errors/configuring-code-scanning#using-queries-in-ql-packs\n",
      "        # queries: security-extended,security-and-quality\n",
      "\n",
      "\n",
      "    # Autobuild attempts to build any compiled languages  (C/C++, C#, Go, or Java).\n",
      "    # If this step fails, then you should remove it and run the build manually (see below)\n",
      "    - name: Autobuild\n",
      "      uses: github/codeql-action/autobuild@v2\n",
      "\n",
      "    # ℹ️ Command-line programs to run using the OS shell.\n",
      "    # 📚 See https://docs.github.com/en/actions/using-workflows/workflow-syntax-for-github-actions#jobsjob_idstepsrun\n",
      "\n",
      "    #   If the Autobuild fails above, remove it and uncomment the following three lines.\n",
      "    #   modify them (or add more) to build your code if your project, please refer to the EXAMPLE below for guidance.\n",
      "\n",
      "    # - run: |\n",
      "    #   echo \"Run, Build Application using script\"\n",
      "    #   ./location_of_script_within_repo/buildscript.sh\n",
      "\n",
      "    - name: Perform CodeQL Analysis\n",
      "      uses: github/codeql-action/analyze@v2\n",
      "      with:\n",
      "        category: \"/language:${{matrix.language}}\"\n",
      "\n"
     ]
    }
   ],
   "source": [
    "response = requests.get(\n",
    "    'https://raw.githubusercontent.com/EliahKagan/palgoviz/main/.github/workflows/codeql.yml',\n",
    ")\n",
    "response.raise_for_status()\n",
    "codeql_raw = response.text\n",
    "print(codeql_raw)"
   ]
  },
  {
   "cell_type": "code",
   "execution_count": 11,
   "metadata": {},
   "outputs": [
    {
     "data": {
      "text/plain": [
       "{'name': 'CodeQL',\n",
       " True: {'push': None,\n",
       "  'pull_request': None,\n",
       "  'schedule': [{'cron': '39 4 * * 5'}]},\n",
       " 'jobs': {'analyze': {'name': 'Analyze',\n",
       "   'runs-on': 'ubuntu-latest',\n",
       "   'permissions': {'actions': 'read',\n",
       "    'contents': 'read',\n",
       "    'security-events': 'write'},\n",
       "   'strategy': {'fail-fast': False, 'matrix': {'language': ['python']}},\n",
       "   'steps': [{'name': 'Checkout repository', 'uses': 'actions/checkout@v3'},\n",
       "    {'name': 'Set up Python',\n",
       "     'uses': 'actions/setup-python@v4',\n",
       "     'with': {'python-version': 3.11}},\n",
       "    {'name': 'Initialize CodeQL',\n",
       "     'uses': 'github/codeql-action/init@v2',\n",
       "     'with': {'languages': '${{ matrix.language }}'}},\n",
       "    {'name': 'Autobuild', 'uses': 'github/codeql-action/autobuild@v2'},\n",
       "    {'name': 'Perform CodeQL Analysis',\n",
       "     'uses': 'github/codeql-action/analyze@v2',\n",
       "     'with': {'category': '/language:${{matrix.language}}'}}]}}}"
      ]
     },
     "execution_count": 11,
     "metadata": {},
     "output_type": "execute_result"
    }
   ],
   "source": [
    "codeql = yaml.safe_load(codeql_raw)\n",
    "codeql"
   ]
  },
  {
   "cell_type": "code",
   "execution_count": 12,
   "metadata": {},
   "outputs": [
    {
     "name": "stdout",
     "output_type": "stream",
     "text": [
      "{\n",
      "    \"name\": \"CodeQL\",\n",
      "    \"true\": {\n",
      "        \"push\": null,\n",
      "        \"pull_request\": null,\n",
      "        \"schedule\": [\n",
      "            {\n",
      "                \"cron\": \"39 4 * * 5\"\n",
      "            }\n",
      "        ]\n",
      "    },\n",
      "    \"jobs\": {\n",
      "        \"analyze\": {\n",
      "            \"name\": \"Analyze\",\n",
      "            \"runs-on\": \"ubuntu-latest\",\n",
      "            \"permissions\": {\n",
      "                \"actions\": \"read\",\n",
      "                \"contents\": \"read\",\n",
      "                \"security-events\": \"write\"\n",
      "            },\n",
      "            \"strategy\": {\n",
      "                \"fail-fast\": false,\n",
      "                \"matrix\": {\n",
      "                    \"language\": [\n",
      "                        \"python\"\n",
      "                    ]\n",
      "                }\n",
      "            },\n",
      "            \"steps\": [\n",
      "                {\n",
      "                    \"name\": \"Checkout repository\",\n",
      "                    \"uses\": \"actions/checkout@v3\"\n",
      "                },\n",
      "                {\n",
      "                    \"name\": \"Set up Python\",\n",
      "                    \"uses\": \"actions/setup-python@v4\",\n",
      "                    \"with\": {\n",
      "                        \"python-version\": 3.11\n",
      "                    }\n",
      "                },\n",
      "                {\n",
      "                    \"name\": \"Initialize CodeQL\",\n",
      "                    \"uses\": \"github/codeql-action/init@v2\",\n",
      "                    \"with\": {\n",
      "                        \"languages\": \"${{ matrix.language }}\"\n",
      "                    }\n",
      "                },\n",
      "                {\n",
      "                    \"name\": \"Autobuild\",\n",
      "                    \"uses\": \"github/codeql-action/autobuild@v2\"\n",
      "                },\n",
      "                {\n",
      "                    \"name\": \"Perform CodeQL Analysis\",\n",
      "                    \"uses\": \"github/codeql-action/analyze@v2\",\n",
      "                    \"with\": {\n",
      "                        \"category\": \"/language:${{matrix.language}}\"\n",
      "                    }\n",
      "                }\n",
      "            ]\n",
      "        }\n",
      "    }\n",
      "}"
     ]
    }
   ],
   "source": [
    "json.dump(codeql, sys.stdout, indent=4)"
   ]
  },
  {
   "cell_type": "code",
   "execution_count": 13,
   "metadata": {},
   "outputs": [
    {
     "data": {
      "image/svg+xml": "<?xml version=\"1.0\" encoding=\"UTF-8\" standalone=\"no\"?>\n<!DOCTYPE svg PUBLIC \"-//W3C//DTD SVG 1.1//EN\"\n \"http://www.w3.org/Graphics/SVG/1.1/DTD/svg11.dtd\">\n<!-- Generated by graphviz version 7.1.0 (20230121.1956)\n -->\n<!-- Pages: 1 -->\n<svg width=\"2931pt\" height=\"544pt\"\n viewBox=\"0.00 0.00 2930.54 544.40\" xmlns=\"http://www.w3.org/2000/svg\" xmlns:xlink=\"http://www.w3.org/1999/xlink\">\n<g id=\"graph0\" class=\"graph\" transform=\"scale(1 1) rotate(0) translate(4 540.4)\">\n<polygon fill=\"white\" stroke=\"none\" points=\"-4,4 -4,-540.4 2926.54,-540.4 2926.54,4 -4,4\"/>\n<!-- 140496069552960 -->\n<g id=\"node1\" class=\"node\">\n<title>140496069552960</title>\n<ellipse fill=\"black\" stroke=\"black\" cx=\"154.95\" cy=\"-534.6\" rx=\"1.8\" ry=\"1.8\"/>\n</g>\n<!-- leaf&#45;0 -->\n<g id=\"node2\" class=\"node\">\n<title>leaf&#45;0</title>\n<ellipse fill=\"none\" stroke=\"black\" cx=\"86.95\" cy=\"-462\" rx=\"47.55\" ry=\"18\"/>\n<text text-anchor=\"middle\" x=\"86.95\" y=\"-457.8\" font-family=\"Times,serif\" font-size=\"14.00\">&#39;CodeQL&#39;</text>\n</g>\n<!-- 140496069552960&#45;&gt;leaf&#45;0 -->\n<g id=\"edge1\" class=\"edge\">\n<title>140496069552960&#45;&gt;leaf&#45;0</title>\n<path fill=\"none\" stroke=\"black\" d=\"M153.24,-533.19C147.33,-531.69 127.5,-526.02 115.59,-514.8 108.36,-507.99 102.51,-498.93 98.02,-490.3\"/>\n<polygon fill=\"black\" stroke=\"black\" points=\"101.31,-489.07 93.87,-481.53 94.98,-492.06 101.31,-489.07\"/>\n<text text-anchor=\"middle\" x=\"133.63\" y=\"-502.2\" font-family=\"Times,serif\" font-size=\"14.00\">&#39;name&#39;</text>\n</g>\n<!-- 140495971120512 -->\n<g id=\"node3\" class=\"node\">\n<title>140495971120512</title>\n<ellipse fill=\"black\" stroke=\"black\" cx=\"154.95\" cy=\"-462\" rx=\"1.8\" ry=\"1.8\"/>\n</g>\n<!-- 140496069552960&#45;&gt;140495971120512 -->\n<g id=\"edge2\" class=\"edge\">\n<title>140496069552960&#45;&gt;140495971120512</title>\n<path fill=\"none\" stroke=\"black\" d=\"M154.95,-532.37C154.95,-525.72 154.95,-493.6 154.95,-475.48\"/>\n<polygon fill=\"black\" stroke=\"black\" points=\"158.45,-475.56 154.95,-465.56 151.45,-475.56 158.45,-475.56\"/>\n<text text-anchor=\"middle\" x=\"168.17\" y=\"-502.2\" font-family=\"Times,serif\" font-size=\"14.00\">True</text>\n</g>\n<!-- 140495967707520 -->\n<g id=\"node9\" class=\"node\">\n<title>140495967707520</title>\n<ellipse fill=\"black\" stroke=\"black\" cx=\"306.95\" cy=\"-462\" rx=\"1.8\" ry=\"1.8\"/>\n</g>\n<!-- 140496069552960&#45;&gt;140495967707520 -->\n<g id=\"edge8\" class=\"edge\">\n<title>140496069552960&#45;&gt;140495967707520</title>\n<path fill=\"none\" stroke=\"black\" d=\"M156.27,-532.99C168.45,-527.33 262.05,-483.86 295.29,-468.42\"/>\n<polygon fill=\"black\" stroke=\"black\" points=\"296.46,-471.73 304.05,-464.35 293.51,-465.39 296.46,-471.73\"/>\n<text text-anchor=\"middle\" x=\"245.15\" y=\"-502.2\" font-family=\"Times,serif\" font-size=\"14.00\">&#39;jobs&#39;</text>\n</g>\n<!-- leaf&#45;1 -->\n<g id=\"node4\" class=\"node\">\n<title>leaf&#45;1</title>\n<ellipse fill=\"none\" stroke=\"black\" cx=\"31.95\" cy=\"-373.2\" rx=\"31.91\" ry=\"18\"/>\n<text text-anchor=\"middle\" x=\"31.95\" y=\"-369\" font-family=\"Times,serif\" font-size=\"14.00\">None</text>\n</g>\n<!-- 140495971120512&#45;&gt;leaf&#45;1 -->\n<g id=\"edge3\" class=\"edge\">\n<title>140495971120512&#45;&gt;leaf&#45;1</title>\n<path fill=\"none\" stroke=\"black\" d=\"M154.57,-459.88C153.45,-456.82 149.9,-448.25 143.95,-444 116.93,-424.71 99.21,-444.23 71.46,-426 61.5,-419.45 53.04,-409.52 46.54,-400.09\"/>\n<polygon fill=\"black\" stroke=\"black\" points=\"49.64,-398.44 41.31,-391.9 43.74,-402.21 49.64,-398.44\"/>\n<text text-anchor=\"middle\" x=\"87.7\" y=\"-413.4\" font-family=\"Times,serif\" font-size=\"14.00\">&#39;push&#39;</text>\n</g>\n<!-- leaf&#45;2 -->\n<g id=\"node5\" class=\"node\">\n<title>leaf&#45;2</title>\n<ellipse fill=\"none\" stroke=\"black\" cx=\"113.95\" cy=\"-373.2\" rx=\"31.91\" ry=\"18\"/>\n<text text-anchor=\"middle\" x=\"113.95\" y=\"-369\" font-family=\"Times,serif\" font-size=\"14.00\">None</text>\n</g>\n<!-- 140495971120512&#45;&gt;leaf&#45;2 -->\n<g id=\"edge4\" class=\"edge\">\n<title>140495971120512&#45;&gt;leaf&#45;2</title>\n<path fill=\"none\" stroke=\"black\" d=\"M154.5,-459.95C153.23,-457.08 149.32,-448.96 143.95,-444 131.62,-432.59 119.3,-440.44 110.7,-426 106.55,-419.03 105.72,-410.56 106.39,-402.5\"/>\n<polygon fill=\"black\" stroke=\"black\" points=\"109.83,-403.14 107.99,-392.71 102.92,-402.01 109.83,-403.14\"/>\n<text text-anchor=\"middle\" x=\"148.08\" y=\"-413.4\" font-family=\"Times,serif\" font-size=\"14.00\">&#39;pull_request&#39;</text>\n</g>\n<!-- 140495967625856 -->\n<g id=\"node6\" class=\"node\">\n<title>140495967625856</title>\n<ellipse fill=\"black\" stroke=\"black\" cx=\"188.95\" cy=\"-373.2\" rx=\"1.8\" ry=\"1.8\"/>\n</g>\n<!-- 140495971120512&#45;&gt;140495967625856 -->\n<g id=\"edge5\" class=\"edge\">\n<title>140495971120512&#45;&gt;140495967625856</title>\n<path fill=\"none\" stroke=\"black\" d=\"M156.08,-460.32C161.14,-457.19 181.82,-443.58 188.95,-426 194.16,-413.16 193.1,-397.02 191.43,-386.19\"/>\n<polygon fill=\"black\" stroke=\"black\" points=\"194.87,-385.56 189.46,-376.45 188.01,-386.95 194.87,-385.56\"/>\n<text text-anchor=\"middle\" x=\"219.97\" y=\"-413.4\" font-family=\"Times,serif\" font-size=\"14.00\">&#39;schedule&#39;</text>\n</g>\n<!-- 140495967707072 -->\n<g id=\"node7\" class=\"node\">\n<title>140495967707072</title>\n<ellipse fill=\"black\" stroke=\"black\" cx=\"131.95\" cy=\"-284.4\" rx=\"1.8\" ry=\"1.8\"/>\n</g>\n<!-- 140495967625856&#45;&gt;140495967707072 -->\n<g id=\"edge6\" class=\"edge\">\n<title>140495967625856&#45;&gt;140495967707072</title>\n<path fill=\"none\" stroke=\"black\" d=\"M188.27,-371.23C183.94,-365.1 160.02,-331.08 141.95,-302.4 140.71,-300.42 139.42,-298.29 138.19,-296.23\"/>\n<polygon fill=\"black\" stroke=\"black\" points=\"141.26,-294.55 133.23,-287.64 135.2,-298.05 141.26,-294.55\"/>\n</g>\n<!-- leaf&#45;3 -->\n<g id=\"node8\" class=\"node\">\n<title>leaf&#45;3</title>\n<ellipse fill=\"none\" stroke=\"black\" cx=\"131.95\" cy=\"-195.6\" rx=\"53.29\" ry=\"18\"/>\n<text text-anchor=\"middle\" x=\"131.95\" y=\"-191.4\" font-family=\"Times,serif\" font-size=\"14.00\">&#39;39 4 * * 5&#39;</text>\n</g>\n<!-- 140495967707072&#45;&gt;leaf&#45;3 -->\n<g id=\"edge7\" class=\"edge\">\n<title>140495967707072&#45;&gt;leaf&#45;3</title>\n<path fill=\"none\" stroke=\"black\" d=\"M131.95,-282.17C131.95,-275.99 131.95,-247.66 131.95,-225.27\"/>\n<polygon fill=\"black\" stroke=\"black\" points=\"135.45,-225.45 131.95,-215.45 128.45,-225.45 135.45,-225.45\"/>\n<text text-anchor=\"middle\" x=\"146.91\" y=\"-235.8\" font-family=\"Times,serif\" font-size=\"14.00\">&#39;cron&#39;</text>\n</g>\n<!-- 140496022453568 -->\n<g id=\"node10\" class=\"node\">\n<title>140496022453568</title>\n<ellipse fill=\"black\" stroke=\"black\" cx=\"366.95\" cy=\"-373.2\" rx=\"1.8\" ry=\"1.8\"/>\n</g>\n<!-- 140495967707520&#45;&gt;140496022453568 -->\n<g id=\"edge9\" class=\"edge\">\n<title>140495967707520&#45;&gt;140496022453568</title>\n<path fill=\"none\" stroke=\"black\" d=\"M307.63,-460.03C312.7,-452.68 345.13,-405.77 359.78,-384.58\"/>\n<polygon fill=\"black\" stroke=\"black\" points=\"362.54,-386.74 365.35,-376.53 356.78,-382.76 362.54,-386.74\"/>\n<text text-anchor=\"middle\" x=\"366.85\" y=\"-413.4\" font-family=\"Times,serif\" font-size=\"14.00\">&#39;analyze&#39;</text>\n</g>\n<!-- leaf&#45;4 -->\n<g id=\"node11\" class=\"node\">\n<title>leaf&#45;4</title>\n<ellipse fill=\"none\" stroke=\"black\" cx=\"197.95\" cy=\"-284.4\" rx=\"46.88\" ry=\"18\"/>\n<text text-anchor=\"middle\" x=\"197.95\" y=\"-280.2\" font-family=\"Times,serif\" font-size=\"14.00\">&#39;Analyze&#39;</text>\n</g>\n<!-- 140496022453568&#45;&gt;leaf&#45;4 -->\n<g id=\"edge10\" class=\"edge\">\n<title>140496022453568&#45;&gt;leaf&#45;4</title>\n<path fill=\"none\" stroke=\"black\" d=\"M365.5,-371.57C357.78,-368.22 320.92,-352.1 291.59,-337.2 271.93,-327.21 250.37,-315.35 232.9,-305.5\"/>\n<polygon fill=\"black\" stroke=\"black\" points=\"234.87,-302.59 224.45,-300.71 231.42,-308.68 234.87,-302.59\"/>\n<text text-anchor=\"middle\" x=\"309.63\" y=\"-324.6\" font-family=\"Times,serif\" font-size=\"14.00\">&#39;name&#39;</text>\n</g>\n<!-- leaf&#45;5 -->\n<g id=\"node12\" class=\"node\">\n<title>leaf&#45;5</title>\n<ellipse fill=\"none\" stroke=\"black\" cx=\"327.95\" cy=\"-284.4\" rx=\"64.87\" ry=\"18\"/>\n<text text-anchor=\"middle\" x=\"327.95\" y=\"-280.2\" font-family=\"Times,serif\" font-size=\"14.00\">&#39;ubuntu&#45;latest&#39;</text>\n</g>\n<!-- 140496022453568&#45;&gt;leaf&#45;5 -->\n<g id=\"edge11\" class=\"edge\">\n<title>140496022453568&#45;&gt;leaf&#45;5</title>\n<path fill=\"none\" stroke=\"black\" d=\"M365.75,-371.27C361.03,-367.58 343.71,-353.32 336.14,-337.2 332.74,-329.98 330.71,-321.63 329.51,-313.77\"/>\n<polygon fill=\"black\" stroke=\"black\" points=\"333,-313.49 328.42,-303.93 326.04,-314.26 333,-313.49\"/>\n<text text-anchor=\"middle\" x=\"360.86\" y=\"-324.6\" font-family=\"Times,serif\" font-size=\"14.00\">&#39;runs&#45;on&#39;</text>\n</g>\n<!-- 140495967710144 -->\n<g id=\"node13\" class=\"node\">\n<title>140495967710144</title>\n<ellipse fill=\"black\" stroke=\"black\" cx=\"412.95\" cy=\"-284.4\" rx=\"1.8\" ry=\"1.8\"/>\n</g>\n<!-- 140496022453568&#45;&gt;140495967710144 -->\n<g id=\"edge12\" class=\"edge\">\n<title>140496022453568&#45;&gt;140495967710144</title>\n<path fill=\"none\" stroke=\"black\" d=\"M367.47,-371.23C371.32,-363.95 395.75,-317.86 407.13,-296.38\"/>\n<polygon fill=\"black\" stroke=\"black\" points=\"410.08,-298.29 411.67,-287.82 403.9,-295.02 410.08,-298.29\"/>\n<text text-anchor=\"middle\" x=\"430.92\" y=\"-324.6\" font-family=\"Times,serif\" font-size=\"14.00\">&#39;permissions&#39;</text>\n</g>\n<!-- 140495967709952 -->\n<g id=\"node17\" class=\"node\">\n<title>140495967709952</title>\n<ellipse fill=\"black\" stroke=\"black\" cx=\"525.95\" cy=\"-284.4\" rx=\"1.8\" ry=\"1.8\"/>\n</g>\n<!-- 140496022453568&#45;&gt;140495967709952 -->\n<g id=\"edge16\" class=\"edge\">\n<title>140496022453568&#45;&gt;140495967709952</title>\n<path fill=\"none\" stroke=\"black\" d=\"M368.79,-371.89C379.37,-370.03 433.37,-359.73 470.95,-337.2 490.12,-325.71 508.14,-306.57 518.04,-295.05\"/>\n<polygon fill=\"black\" stroke=\"black\" points=\"520.66,-297.38 524.32,-287.44 515.26,-292.93 520.66,-297.38\"/>\n<text text-anchor=\"middle\" x=\"517.63\" y=\"-324.6\" font-family=\"Times,serif\" font-size=\"14.00\">&#39;strategy&#39;</text>\n</g>\n<!-- 140495967622592 -->\n<g id=\"node22\" class=\"node\">\n<title>140495967622592</title>\n<ellipse fill=\"black\" stroke=\"black\" cx=\"1338.95\" cy=\"-284.4\" rx=\"1.8\" ry=\"1.8\"/>\n</g>\n<!-- 140496022453568&#45;&gt;140495967622592 -->\n<g id=\"edge21\" class=\"edge\">\n<title>140496022453568&#45;&gt;140495967622592</title>\n<path fill=\"none\" stroke=\"black\" d=\"M368.8,-372.03C412.4,-368.14 1213.78,-296.58 1325.95,-286.56\"/>\n<polygon fill=\"black\" stroke=\"black\" points=\"1326.04,-290.07 1335.69,-285.69 1325.42,-283.09 1326.04,-290.07\"/>\n<text text-anchor=\"middle\" x=\"957.48\" y=\"-324.6\" font-family=\"Times,serif\" font-size=\"14.00\">&#39;steps&#39;</text>\n</g>\n<!-- leaf&#45;6 -->\n<g id=\"node14\" class=\"node\">\n<title>leaf&#45;6</title>\n<ellipse fill=\"none\" stroke=\"black\" cx=\"253.95\" cy=\"-195.6\" rx=\"31.27\" ry=\"18\"/>\n<text text-anchor=\"middle\" x=\"253.95\" y=\"-191.4\" font-family=\"Times,serif\" font-size=\"14.00\">&#39;read&#39;</text>\n</g>\n<!-- 140495967710144&#45;&gt;leaf&#45;6 -->\n<g id=\"edge13\" class=\"edge\">\n<title>140495967710144&#45;&gt;leaf&#45;6</title>\n<path fill=\"none\" stroke=\"black\" d=\"M412.58,-282.26C411.5,-279.14 408.05,-270.44 401.95,-266.4 363.32,-240.81 339.63,-271.14 299.25,-248.4 287.89,-242 277.99,-231.65 270.36,-221.87\"/>\n<polygon fill=\"black\" stroke=\"black\" points=\"273.38,-220.07 264.66,-214.05 267.72,-224.19 273.38,-220.07\"/>\n<text text-anchor=\"middle\" x=\"322.3\" y=\"-235.8\" font-family=\"Times,serif\" font-size=\"14.00\">&#39;actions&#39;</text>\n</g>\n<!-- leaf&#45;7 -->\n<g id=\"node15\" class=\"node\">\n<title>leaf&#45;7</title>\n<ellipse fill=\"none\" stroke=\"black\" cx=\"333.95\" cy=\"-195.6\" rx=\"31.27\" ry=\"18\"/>\n<text text-anchor=\"middle\" x=\"333.95\" y=\"-191.4\" font-family=\"Times,serif\" font-size=\"14.00\">&#39;read&#39;</text>\n</g>\n<!-- 140495967710144&#45;&gt;leaf&#45;7 -->\n<g id=\"edge14\" class=\"edge\">\n<title>140495967710144&#45;&gt;leaf&#45;7</title>\n<path fill=\"none\" stroke=\"black\" d=\"M412.53,-282.33C411.32,-279.38 407.56,-271.1 401.95,-266.4 386.17,-253.17 374.21,-262.55 359.25,-248.4 352.2,-241.73 346.86,-232.67 342.94,-224\"/>\n<polygon fill=\"black\" stroke=\"black\" points=\"346.24,-222.82 339.29,-214.83 339.74,-225.41 346.24,-222.82\"/>\n<text text-anchor=\"middle\" x=\"385.8\" y=\"-235.8\" font-family=\"Times,serif\" font-size=\"14.00\">&#39;contents&#39;</text>\n</g>\n<!-- leaf&#45;8 -->\n<g id=\"node16\" class=\"node\">\n<title>leaf&#45;8</title>\n<ellipse fill=\"none\" stroke=\"black\" cx=\"416.95\" cy=\"-195.6\" rx=\"34.22\" ry=\"18\"/>\n<text text-anchor=\"middle\" x=\"416.95\" y=\"-191.4\" font-family=\"Times,serif\" font-size=\"14.00\">&#39;write&#39;</text>\n</g>\n<!-- 140495967710144&#45;&gt;leaf&#45;8 -->\n<g id=\"edge15\" class=\"edge\">\n<title>140495967710144&#45;&gt;leaf&#45;8</title>\n<path fill=\"none\" stroke=\"black\" d=\"M413.01,-282.17C413.3,-275.99 414.6,-247.66 415.63,-225.27\"/>\n<polygon fill=\"black\" stroke=\"black\" points=\"419.12,-225.6 416.09,-215.45 412.13,-225.27 419.12,-225.6\"/>\n<text text-anchor=\"middle\" x=\"460.85\" y=\"-235.8\" font-family=\"Times,serif\" font-size=\"14.00\">&#39;security&#45;events&#39;</text>\n</g>\n<!-- leaf&#45;9 -->\n<g id=\"node18\" class=\"node\">\n<title>leaf&#45;9</title>\n<ellipse fill=\"none\" stroke=\"black\" cx=\"525.95\" cy=\"-195.6\" rx=\"31.34\" ry=\"18\"/>\n<text text-anchor=\"middle\" x=\"525.95\" y=\"-191.4\" font-family=\"Times,serif\" font-size=\"14.00\">False</text>\n</g>\n<!-- 140495967709952&#45;&gt;leaf&#45;9 -->\n<g id=\"edge17\" class=\"edge\">\n<title>140495967709952&#45;&gt;leaf&#45;9</title>\n<path fill=\"none\" stroke=\"black\" d=\"M525.95,-282.17C525.95,-275.99 525.95,-247.66 525.95,-225.27\"/>\n<polygon fill=\"black\" stroke=\"black\" points=\"529.45,-225.45 525.95,-215.45 522.45,-225.45 529.45,-225.45\"/>\n<text text-anchor=\"middle\" x=\"550.24\" y=\"-235.8\" font-family=\"Times,serif\" font-size=\"14.00\">&#39;fail&#45;fast&#39;</text>\n</g>\n<!-- 140495970540480 -->\n<g id=\"node19\" class=\"node\">\n<title>140495970540480</title>\n<ellipse fill=\"black\" stroke=\"black\" cx=\"586.95\" cy=\"-195.6\" rx=\"1.8\" ry=\"1.8\"/>\n</g>\n<!-- 140495967709952&#45;&gt;140495970540480 -->\n<g id=\"edge18\" class=\"edge\">\n<title>140495967709952&#45;&gt;140495970540480</title>\n<path fill=\"none\" stroke=\"black\" d=\"M527.49,-282.82C534.4,-280.15 562.85,-268.19 575.95,-248.4 583.86,-236.45 586.22,-219.85 586.85,-208.69\"/>\n<polygon fill=\"black\" stroke=\"black\" points=\"590.35,-208.97 586.97,-198.92 583.35,-208.88 590.35,-208.97\"/>\n<text text-anchor=\"middle\" x=\"603.75\" y=\"-235.8\" font-family=\"Times,serif\" font-size=\"14.00\">&#39;matrix&#39;</text>\n</g>\n<!-- 140495967687040 -->\n<g id=\"node20\" class=\"node\">\n<title>140495967687040</title>\n<ellipse fill=\"black\" stroke=\"black\" cx=\"427.95\" cy=\"-106.8\" rx=\"1.8\" ry=\"1.8\"/>\n</g>\n<!-- 140495970540480&#45;&gt;140495967687040 -->\n<g id=\"edge19\" class=\"edge\">\n<title>140495970540480&#45;&gt;140495967687040</title>\n<path fill=\"none\" stroke=\"black\" d=\"M586.25,-193.79C583.79,-191.01 575.18,-181.8 565.95,-177.6 523.83,-158.43 502.44,-184.43 463.38,-159.6 448.31,-150.02 438.02,-131.48 432.56,-119.38\"/>\n<polygon fill=\"black\" stroke=\"black\" points=\"435.94,-118.4 428.95,-110.45 429.45,-121.03 435.94,-118.4\"/>\n<text text-anchor=\"middle\" x=\"491.74\" y=\"-147\" font-family=\"Times,serif\" font-size=\"14.00\">&#39;language&#39;</text>\n</g>\n<!-- leaf&#45;10 -->\n<g id=\"node21\" class=\"node\">\n<title>leaf&#45;10</title>\n<ellipse fill=\"none\" stroke=\"black\" cx=\"427.95\" cy=\"-18\" rx=\"41.18\" ry=\"18\"/>\n<text text-anchor=\"middle\" x=\"427.95\" y=\"-13.8\" font-family=\"Times,serif\" font-size=\"14.00\">&#39;python&#39;</text>\n</g>\n<!-- 140495967687040&#45;&gt;leaf&#45;10 -->\n<g id=\"edge20\" class=\"edge\">\n<title>140495967687040&#45;&gt;leaf&#45;10</title>\n<path fill=\"none\" stroke=\"black\" d=\"M427.95,-104.57C427.95,-98.39 427.95,-70.06 427.95,-47.67\"/>\n<polygon fill=\"black\" stroke=\"black\" points=\"431.45,-47.85 427.95,-37.85 424.45,-47.85 431.45,-47.85\"/>\n</g>\n<!-- 140495967990848 -->\n<g id=\"node23\" class=\"node\">\n<title>140495967990848</title>\n<ellipse fill=\"black\" stroke=\"black\" cx=\"749.95\" cy=\"-195.6\" rx=\"1.8\" ry=\"1.8\"/>\n</g>\n<!-- 140495967622592&#45;&gt;140495967990848 -->\n<g id=\"edge22\" class=\"edge\">\n<title>140495967622592&#45;&gt;140495967990848</title>\n<path fill=\"none\" stroke=\"black\" d=\"M1337.26,-283.15C1305.85,-278.52 846.11,-210.77 762.84,-198.5\"/>\n<polygon fill=\"black\" stroke=\"black\" points=\"763.44,-195.05 753.04,-197.05 762.42,-201.98 763.44,-195.05\"/>\n</g>\n<!-- 140495970541056 -->\n<g id=\"node26\" class=\"node\">\n<title>140495970541056</title>\n<ellipse fill=\"black\" stroke=\"black\" cx=\"1167.95\" cy=\"-195.6\" rx=\"1.8\" ry=\"1.8\"/>\n</g>\n<!-- 140495967622592&#45;&gt;140495970541056 -->\n<g id=\"edge25\" class=\"edge\">\n<title>140495967622592&#45;&gt;140495970541056</title>\n<path fill=\"none\" stroke=\"black\" d=\"M1337.48,-282.65C1323.53,-275.57 1214.8,-220.38 1179.2,-202.31\"/>\n<polygon fill=\"black\" stroke=\"black\" points=\"1181.13,-199.36 1170.63,-197.96 1177.96,-205.6 1181.13,-199.36\"/>\n</g>\n<!-- 140495967654976 -->\n<g id=\"node31\" class=\"node\">\n<title>140495967654976</title>\n<ellipse fill=\"black\" stroke=\"black\" cx=\"1486.95\" cy=\"-195.6\" rx=\"1.8\" ry=\"1.8\"/>\n</g>\n<!-- 140495967622592&#45;&gt;140495967654976 -->\n<g id=\"edge30\" class=\"edge\">\n<title>140495967622592&#45;&gt;140495967654976</title>\n<path fill=\"none\" stroke=\"black\" d=\"M1340.23,-282.65C1352.19,-275.64 1444.62,-221.43 1476.32,-202.84\"/>\n<polygon fill=\"black\" stroke=\"black\" points=\"1477.95,-205.94 1484.8,-197.86 1474.41,-199.9 1477.95,-205.94\"/>\n</g>\n<!-- 140495967655040 -->\n<g id=\"node36\" class=\"node\">\n<title>140495967655040</title>\n<ellipse fill=\"black\" stroke=\"black\" cx=\"1823.95\" cy=\"-195.6\" rx=\"1.8\" ry=\"1.8\"/>\n</g>\n<!-- 140495967622592&#45;&gt;140495967655040 -->\n<g id=\"edge35\" class=\"edge\">\n<title>140495967622592&#45;&gt;140495967655040</title>\n<path fill=\"none\" stroke=\"black\" d=\"M1340.71,-283.09C1369.25,-277.98 1736.94,-212.17 1811.01,-198.92\"/>\n<polygon fill=\"black\" stroke=\"black\" points=\"1811.6,-202.37 1820.83,-197.16 1810.37,-195.48 1811.6,-202.37\"/>\n</g>\n<!-- 140495967655424 -->\n<g id=\"node39\" class=\"node\">\n<title>140495967655424</title>\n<ellipse fill=\"black\" stroke=\"black\" cx=\"2475.95\" cy=\"-195.6\" rx=\"1.8\" ry=\"1.8\"/>\n</g>\n<!-- 140495967622592&#45;&gt;140495967655424 -->\n<g id=\"edge38\" class=\"edge\">\n<title>140495967622592&#45;&gt;140495967655424</title>\n<path fill=\"none\" stroke=\"black\" d=\"M1340.8,-283.26C1388.35,-279.63 2340.49,-206.94 2463.01,-197.59\"/>\n<polygon fill=\"black\" stroke=\"black\" points=\"2462.98,-201.1 2472.68,-196.85 2462.45,-194.12 2462.98,-201.1\"/>\n</g>\n<!-- leaf&#45;11 -->\n<g id=\"node24\" class=\"node\">\n<title>leaf&#45;11</title>\n<ellipse fill=\"none\" stroke=\"black\" cx=\"540.95\" cy=\"-106.8\" rx=\"93.19\" ry=\"18\"/>\n<text text-anchor=\"middle\" x=\"540.95\" y=\"-102.6\" font-family=\"Times,serif\" font-size=\"14.00\">&#39;Checkout repository&#39;</text>\n</g>\n<!-- 140495967990848&#45;&gt;leaf&#45;11 -->\n<g id=\"edge23\" class=\"edge\">\n<title>140495967990848&#45;&gt;leaf&#45;11</title>\n<path fill=\"none\" stroke=\"black\" d=\"M748.62,-194.05C736.64,-189.07 646.74,-151.73 589.22,-127.84\"/>\n<polygon fill=\"black\" stroke=\"black\" points=\"590.85,-124.73 580.28,-124.13 588.17,-131.2 590.85,-124.73\"/>\n<text text-anchor=\"middle\" x=\"682.63\" y=\"-147\" font-family=\"Times,serif\" font-size=\"14.00\">&#39;name&#39;</text>\n</g>\n<!-- leaf&#45;12 -->\n<g id=\"node25\" class=\"node\">\n<title>leaf&#45;12</title>\n<ellipse fill=\"none\" stroke=\"black\" cx=\"749.95\" cy=\"-106.8\" rx=\"97.92\" ry=\"18\"/>\n<text text-anchor=\"middle\" x=\"749.95\" y=\"-102.6\" font-family=\"Times,serif\" font-size=\"14.00\">&#39;actions/checkout@v3&#39;</text>\n</g>\n<!-- 140495967990848&#45;&gt;leaf&#45;12 -->\n<g id=\"edge24\" class=\"edge\">\n<title>140495967990848&#45;&gt;leaf&#45;12</title>\n<path fill=\"none\" stroke=\"black\" d=\"M749.95,-193.37C749.95,-187.19 749.95,-158.86 749.95,-136.47\"/>\n<polygon fill=\"black\" stroke=\"black\" points=\"753.45,-136.65 749.95,-126.65 746.45,-136.65 753.45,-136.65\"/>\n<text text-anchor=\"middle\" x=\"764.53\" y=\"-147\" font-family=\"Times,serif\" font-size=\"14.00\">&#39;uses&#39;</text>\n</g>\n<!-- leaf&#45;13 -->\n<g id=\"node27\" class=\"node\">\n<title>leaf&#45;13</title>\n<ellipse fill=\"none\" stroke=\"black\" cx=\"934.95\" cy=\"-106.8\" rx=\"68.92\" ry=\"18\"/>\n<text text-anchor=\"middle\" x=\"934.95\" y=\"-102.6\" font-family=\"Times,serif\" font-size=\"14.00\">&#39;Set up Python&#39;</text>\n</g>\n<!-- 140495970541056&#45;&gt;leaf&#45;13 -->\n<g id=\"edge26\" class=\"edge\">\n<title>140495970541056&#45;&gt;leaf&#45;13</title>\n<path fill=\"none\" stroke=\"black\" d=\"M1166.47,-194.05C1152.76,-188.94 1047.59,-149.76 983.81,-126\"/>\n<polygon fill=\"black\" stroke=\"black\" points=\"985.2,-122.78 974.6,-122.57 982.75,-129.34 985.2,-122.78\"/>\n<text text-anchor=\"middle\" x=\"1090.63\" y=\"-147\" font-family=\"Times,serif\" font-size=\"14.00\">&#39;name&#39;</text>\n</g>\n<!-- leaf&#45;14 -->\n<g id=\"node28\" class=\"node\">\n<title>leaf&#45;14</title>\n<ellipse fill=\"none\" stroke=\"black\" cx=\"1134.95\" cy=\"-106.8\" rx=\"113.56\" ry=\"18\"/>\n<text text-anchor=\"middle\" x=\"1134.95\" y=\"-102.6\" font-family=\"Times,serif\" font-size=\"14.00\">&#39;actions/setup&#45;python@v4&#39;</text>\n</g>\n<!-- 140495970541056&#45;&gt;leaf&#45;14 -->\n<g id=\"edge27\" class=\"edge\">\n<title>140495970541056&#45;&gt;leaf&#45;14</title>\n<path fill=\"none\" stroke=\"black\" d=\"M1167.49,-193.37C1165.11,-187.13 1154.17,-158.34 1145.62,-135.85\"/>\n<polygon fill=\"black\" stroke=\"black\" points=\"1148.91,-134.65 1142.08,-126.55 1142.36,-137.14 1148.91,-134.65\"/>\n<text text-anchor=\"middle\" x=\"1169.53\" y=\"-147\" font-family=\"Times,serif\" font-size=\"14.00\">&#39;uses&#39;</text>\n</g>\n<!-- 140495967655936 -->\n<g id=\"node29\" class=\"node\">\n<title>140495967655936</title>\n<ellipse fill=\"black\" stroke=\"black\" cx=\"1267.95\" cy=\"-106.8\" rx=\"1.8\" ry=\"1.8\"/>\n</g>\n<!-- 140495970541056&#45;&gt;140495967655936 -->\n<g id=\"edge28\" class=\"edge\">\n<title>140495970541056&#45;&gt;140495967655936</title>\n<path fill=\"none\" stroke=\"black\" d=\"M1168.95,-194.03C1176.65,-189.59 1227.13,-159.84 1257.95,-124.8 1259.5,-123.05 1260.93,-121.02 1262.2,-118.99\"/>\n<polygon fill=\"black\" stroke=\"black\" points=\"1265.29,-120.63 1266.83,-110.15 1259.09,-117.38 1265.29,-120.63\"/>\n<text text-anchor=\"middle\" x=\"1253.92\" y=\"-147\" font-family=\"Times,serif\" font-size=\"14.00\">&#39;with&#39;</text>\n</g>\n<!-- leaf&#45;15 -->\n<g id=\"node30\" class=\"node\">\n<title>leaf&#45;15</title>\n<ellipse fill=\"none\" stroke=\"black\" cx=\"1267.95\" cy=\"-18\" rx=\"27.87\" ry=\"18\"/>\n<text text-anchor=\"middle\" x=\"1267.95\" y=\"-13.8\" font-family=\"Times,serif\" font-size=\"14.00\">3.11</text>\n</g>\n<!-- 140495967655936&#45;&gt;leaf&#45;15 -->\n<g id=\"edge29\" class=\"edge\">\n<title>140495967655936&#45;&gt;leaf&#45;15</title>\n<path fill=\"none\" stroke=\"black\" d=\"M1267.95,-104.57C1267.95,-98.39 1267.95,-70.06 1267.95,-47.67\"/>\n<polygon fill=\"black\" stroke=\"black\" points=\"1271.45,-47.85 1267.95,-37.85 1264.45,-47.85 1271.45,-47.85\"/>\n<text text-anchor=\"middle\" x=\"1312.86\" y=\"-58.2\" font-family=\"Times,serif\" font-size=\"14.00\">&#39;python&#45;version&#39;</text>\n</g>\n<!-- leaf&#45;16 -->\n<g id=\"node32\" class=\"node\">\n<title>leaf&#45;16</title>\n<ellipse fill=\"none\" stroke=\"black\" cx=\"1371.95\" cy=\"-106.8\" rx=\"84.51\" ry=\"18\"/>\n<text text-anchor=\"middle\" x=\"1371.95\" y=\"-102.6\" font-family=\"Times,serif\" font-size=\"14.00\">&#39;Initialize CodeQL&#39;</text>\n</g>\n<!-- 140495967654976&#45;&gt;leaf&#45;16 -->\n<g id=\"edge31\" class=\"edge\">\n<title>140495967654976&#45;&gt;leaf&#45;16</title>\n<path fill=\"none\" stroke=\"black\" d=\"M1486.22,-194.05C1479.93,-189.3 1434.66,-155.13 1403.02,-131.25\"/>\n<polygon fill=\"black\" stroke=\"black\" points=\"1405.4,-128.66 1395.31,-125.43 1401.19,-134.25 1405.4,-128.66\"/>\n<text text-anchor=\"middle\" x=\"1457.63\" y=\"-147\" font-family=\"Times,serif\" font-size=\"14.00\">&#39;name&#39;</text>\n</g>\n<!-- leaf&#45;17 -->\n<g id=\"node33\" class=\"node\">\n<title>leaf&#45;17</title>\n<ellipse fill=\"none\" stroke=\"black\" cx=\"1602.95\" cy=\"-106.8\" rx=\"128.58\" ry=\"18\"/>\n<text text-anchor=\"middle\" x=\"1602.95\" y=\"-102.6\" font-family=\"Times,serif\" font-size=\"14.00\">&#39;github/codeql&#45;action/init@v2&#39;</text>\n</g>\n<!-- 140495967654976&#45;&gt;leaf&#45;17 -->\n<g id=\"edge32\" class=\"edge\">\n<title>140495967654976&#45;&gt;leaf&#45;17</title>\n<path fill=\"none\" stroke=\"black\" d=\"M1487.69,-194.05C1494,-189.33 1539.2,-155.51 1571.08,-131.65\"/>\n<polygon fill=\"black\" stroke=\"black\" points=\"1572.96,-134.61 1578.87,-125.82 1568.77,-129.01 1572.96,-134.61\"/>\n<text text-anchor=\"middle\" x=\"1570.53\" y=\"-147\" font-family=\"Times,serif\" font-size=\"14.00\">&#39;uses&#39;</text>\n</g>\n<!-- 140495967656384 -->\n<g id=\"node34\" class=\"node\">\n<title>140495967656384</title>\n<ellipse fill=\"black\" stroke=\"black\" cx=\"1750.95\" cy=\"-106.8\" rx=\"1.8\" ry=\"1.8\"/>\n</g>\n<!-- 140495967654976&#45;&gt;140495967656384 -->\n<g id=\"edge33\" class=\"edge\">\n<title>140495967654976&#45;&gt;140495967656384</title>\n<path fill=\"none\" stroke=\"black\" d=\"M1489.02,-194.6C1508.04,-194.46 1654.18,-191.26 1740.95,-124.8 1742.9,-123.31 1744.54,-121.33 1745.89,-119.24\"/>\n<polygon fill=\"black\" stroke=\"black\" points=\"1749.01,-120.84 1750,-110.29 1742.64,-117.92 1749.01,-120.84\"/>\n<text text-anchor=\"middle\" x=\"1726.92\" y=\"-147\" font-family=\"Times,serif\" font-size=\"14.00\">&#39;with&#39;</text>\n</g>\n<!-- leaf&#45;18 -->\n<g id=\"node35\" class=\"node\">\n<title>leaf&#45;18</title>\n<ellipse fill=\"none\" stroke=\"black\" cx=\"1750.95\" cy=\"-18\" rx=\"105.38\" ry=\"18\"/>\n<text text-anchor=\"middle\" x=\"1750.95\" y=\"-13.8\" font-family=\"Times,serif\" font-size=\"14.00\">&#39;${{ matrix.language }}&#39;</text>\n</g>\n<!-- 140495967656384&#45;&gt;leaf&#45;18 -->\n<g id=\"edge34\" class=\"edge\">\n<title>140495967656384&#45;&gt;leaf&#45;18</title>\n<path fill=\"none\" stroke=\"black\" d=\"M1750.95,-104.57C1750.95,-98.39 1750.95,-70.06 1750.95,-47.67\"/>\n<polygon fill=\"black\" stroke=\"black\" points=\"1754.45,-47.85 1750.95,-37.85 1747.45,-47.85 1754.45,-47.85\"/>\n<text text-anchor=\"middle\" x=\"1781.47\" y=\"-58.2\" font-family=\"Times,serif\" font-size=\"14.00\">&#39;languages&#39;</text>\n</g>\n<!-- leaf&#45;19 -->\n<g id=\"node37\" class=\"node\">\n<title>leaf&#45;19</title>\n<ellipse fill=\"none\" stroke=\"black\" cx=\"1823.95\" cy=\"-106.8\" rx=\"53.86\" ry=\"18\"/>\n<text text-anchor=\"middle\" x=\"1823.95\" y=\"-102.6\" font-family=\"Times,serif\" font-size=\"14.00\">&#39;Autobuild&#39;</text>\n</g>\n<!-- 140495967655040&#45;&gt;leaf&#45;19 -->\n<g id=\"edge36\" class=\"edge\">\n<title>140495967655040&#45;&gt;leaf&#45;19</title>\n<path fill=\"none\" stroke=\"black\" d=\"M1823.95,-193.37C1823.95,-187.19 1823.95,-158.86 1823.95,-136.47\"/>\n<polygon fill=\"black\" stroke=\"black\" points=\"1827.45,-136.65 1823.95,-126.65 1820.45,-136.65 1827.45,-136.65\"/>\n<text text-anchor=\"middle\" x=\"1841.63\" y=\"-147\" font-family=\"Times,serif\" font-size=\"14.00\">&#39;name&#39;</text>\n</g>\n<!-- leaf&#45;20 -->\n<g id=\"node38\" class=\"node\">\n<title>leaf&#45;20</title>\n<ellipse fill=\"none\" stroke=\"black\" cx=\"2047.95\" cy=\"-106.8\" rx=\"152.28\" ry=\"18\"/>\n<text text-anchor=\"middle\" x=\"2047.95\" y=\"-102.6\" font-family=\"Times,serif\" font-size=\"14.00\">&#39;github/codeql&#45;action/autobuild@v2&#39;</text>\n</g>\n<!-- 140495967655040&#45;&gt;leaf&#45;20 -->\n<g id=\"edge37\" class=\"edge\">\n<title>140495967655040&#45;&gt;leaf&#45;20</title>\n<path fill=\"none\" stroke=\"black\" d=\"M1825.38,-194.05C1838.1,-189.12 1932.74,-152.44 1994.45,-128.53\"/>\n<polygon fill=\"black\" stroke=\"black\" points=\"1995.33,-131.94 2003.39,-125.07 1992.81,-125.42 1995.33,-131.94\"/>\n<text text-anchor=\"middle\" x=\"1971.53\" y=\"-147\" font-family=\"Times,serif\" font-size=\"14.00\">&#39;uses&#39;</text>\n</g>\n<!-- leaf&#45;21 -->\n<g id=\"node40\" class=\"node\">\n<title>leaf&#45;21</title>\n<ellipse fill=\"none\" stroke=\"black\" cx=\"2335.95\" cy=\"-106.8\" rx=\"118.09\" ry=\"18\"/>\n<text text-anchor=\"middle\" x=\"2335.95\" y=\"-102.6\" font-family=\"Times,serif\" font-size=\"14.00\">&#39;Perform CodeQL Analysis&#39;</text>\n</g>\n<!-- 140495967655424&#45;&gt;leaf&#45;21 -->\n<g id=\"edge39\" class=\"edge\">\n<title>140495967655424&#45;&gt;leaf&#45;21</title>\n<path fill=\"none\" stroke=\"black\" d=\"M2475.06,-194.05C2467.33,-189.25 2411.18,-154.44 2372.62,-130.53\"/>\n<polygon fill=\"black\" stroke=\"black\" points=\"2374.87,-127.81 2364.52,-125.51 2371.18,-133.76 2374.87,-127.81\"/>\n<text text-anchor=\"middle\" x=\"2436.63\" y=\"-147\" font-family=\"Times,serif\" font-size=\"14.00\">&#39;name&#39;</text>\n</g>\n<!-- leaf&#45;22 -->\n<g id=\"node41\" class=\"node\">\n<title>leaf&#45;22</title>\n<ellipse fill=\"none\" stroke=\"black\" cx=\"2616.95\" cy=\"-106.8\" rx=\"145.3\" ry=\"18\"/>\n<text text-anchor=\"middle\" x=\"2616.95\" y=\"-102.6\" font-family=\"Times,serif\" font-size=\"14.00\">&#39;github/codeql&#45;action/analyze@v2&#39;</text>\n</g>\n<!-- 140495967655424&#45;&gt;leaf&#45;22 -->\n<g id=\"edge40\" class=\"edge\">\n<title>140495967655424&#45;&gt;leaf&#45;22</title>\n<path fill=\"none\" stroke=\"black\" d=\"M2476.85,-194.05C2484.62,-189.27 2540.88,-154.63 2579.7,-130.73\"/>\n<polygon fill=\"black\" stroke=\"black\" points=\"2581.18,-133.93 2587.87,-125.71 2577.51,-127.97 2581.18,-133.93\"/>\n<text text-anchor=\"middle\" x=\"2574.53\" y=\"-147\" font-family=\"Times,serif\" font-size=\"14.00\">&#39;uses&#39;</text>\n</g>\n<!-- 140495967656448 -->\n<g id=\"node42\" class=\"node\">\n<title>140495967656448</title>\n<ellipse fill=\"black\" stroke=\"black\" cx=\"2781.95\" cy=\"-106.8\" rx=\"1.8\" ry=\"1.8\"/>\n</g>\n<!-- 140495967655424&#45;&gt;140495967656448 -->\n<g id=\"edge41\" class=\"edge\">\n<title>140495967655424&#45;&gt;140495967656448</title>\n<path fill=\"none\" stroke=\"black\" d=\"M2477.57,-194.66C2495.95,-195.2 2666.88,-198.22 2770.95,-124.8 2773.1,-123.29 2774.93,-121.21 2776.45,-119.02\"/>\n<polygon fill=\"black\" stroke=\"black\" points=\"2779.48,-120.78 2780.88,-110.27 2773.24,-117.61 2779.48,-120.78\"/>\n<text text-anchor=\"middle\" x=\"2750.92\" y=\"-147\" font-family=\"Times,serif\" font-size=\"14.00\">&#39;with&#39;</text>\n</g>\n<!-- leaf&#45;23 -->\n<g id=\"node43\" class=\"node\">\n<title>leaf&#45;23</title>\n<ellipse fill=\"none\" stroke=\"black\" cx=\"2781.95\" cy=\"-18\" rx=\"140.67\" ry=\"18\"/>\n<text text-anchor=\"middle\" x=\"2781.95\" y=\"-13.8\" font-family=\"Times,serif\" font-size=\"14.00\">&#39;/language:${{matrix.language}}&#39;</text>\n</g>\n<!-- 140495967656448&#45;&gt;leaf&#45;23 -->\n<g id=\"edge42\" class=\"edge\">\n<title>140495967656448&#45;&gt;leaf&#45;23</title>\n<path fill=\"none\" stroke=\"black\" d=\"M2781.95,-104.57C2781.95,-98.39 2781.95,-70.06 2781.95,-47.67\"/>\n<polygon fill=\"black\" stroke=\"black\" points=\"2785.45,-47.85 2781.95,-37.85 2778.45,-47.85 2785.45,-47.85\"/>\n<text text-anchor=\"middle\" x=\"2808.57\" y=\"-58.2\" font-family=\"Times,serif\" font-size=\"14.00\">&#39;category&#39;</text>\n</g>\n</g>\n</svg>\n",
      "text/plain": [
       "<graphviz.graphs.Digraph at 0x7fc7c43f1710>"
      ]
     },
     "execution_count": 13,
     "metadata": {},
     "output_type": "execute_result"
    }
   ],
   "source": [
    "build_graph(codeql)"
   ]
  },
  {
   "attachments": {},
   "cell_type": "markdown",
   "metadata": {},
   "source": [
    "## Example 3: Data from a REST API\n",
    "\n",
    "A REST API returns (and accepts) data as JSON, not YAML..."
   ]
  },
  {
   "cell_type": "code",
   "execution_count": 14,
   "metadata": {},
   "outputs": [
    {
     "data": {
      "text/plain": [
       "{'userId': 1, 'id': 1, 'title': 'delectus aut autem', 'completed': False}"
      ]
     },
     "execution_count": 14,
     "metadata": {},
     "output_type": "execute_result"
    }
   ],
   "source": [
    "response = requests.get('https://jsonplaceholder.typicode.com/todos/1')\n",
    "response.raise_for_status()\n",
    "parsed_json = response.json()\n",
    "parsed_json"
   ]
  },
  {
   "attachments": {},
   "cell_type": "markdown",
   "metadata": {},
   "source": [
    "...except that YAML also accepts the JSON syntax, so any valid JSON is also valid YAML:"
   ]
  },
  {
   "cell_type": "code",
   "execution_count": 15,
   "metadata": {},
   "outputs": [
    {
     "name": "stdout",
     "output_type": "stream",
     "text": [
      "completed: false\n",
      "id: 1\n",
      "title: delectus aut autem\n",
      "userId: 1\n",
      "\n"
     ]
    }
   ],
   "source": [
    "yaml_from_json = yaml.safe_dump(parsed_json)\n",
    "print(yaml_from_json)"
   ]
  },
  {
   "cell_type": "code",
   "execution_count": 16,
   "metadata": {},
   "outputs": [],
   "source": [
    "parsed_yaml = yaml.safe_load(yaml_from_json)"
   ]
  },
  {
   "cell_type": "code",
   "execution_count": 17,
   "metadata": {},
   "outputs": [
    {
     "data": {
      "text/plain": [
       "True"
      ]
     },
     "execution_count": 17,
     "metadata": {},
     "output_type": "execute_result"
    }
   ],
   "source": [
    "parsed_json == parsed_yaml"
   ]
  },
  {
   "cell_type": "code",
   "execution_count": 18,
   "metadata": {},
   "outputs": [
    {
     "data": {
      "image/svg+xml": "<?xml version=\"1.0\" encoding=\"UTF-8\" standalone=\"no\"?>\n<!DOCTYPE svg PUBLIC \"-//W3C//DTD SVG 1.1//EN\"\n \"http://www.w3.org/Graphics/SVG/1.1/DTD/svg11.dtd\">\n<!-- Generated by graphviz version 7.1.0 (20230121.1956)\n -->\n<!-- Pages: 1 -->\n<svg width=\"405pt\" height=\"100pt\"\n viewBox=\"0.00 0.00 405.42 100.40\" xmlns=\"http://www.w3.org/2000/svg\" xmlns:xlink=\"http://www.w3.org/1999/xlink\">\n<g id=\"graph0\" class=\"graph\" transform=\"scale(1 1) rotate(0) translate(4 96.4)\">\n<polygon fill=\"white\" stroke=\"none\" points=\"-4,4 -4,-96.4 401.42,-96.4 401.42,4 -4,4\"/>\n<!-- 140495967653440 -->\n<g id=\"node1\" class=\"node\">\n<title>140495967653440</title>\n<ellipse fill=\"black\" stroke=\"black\" cx=\"164\" cy=\"-90.6\" rx=\"1.8\" ry=\"1.8\"/>\n</g>\n<!-- leaf&#45;0 -->\n<g id=\"node2\" class=\"node\">\n<title>leaf&#45;0</title>\n<ellipse fill=\"none\" stroke=\"black\" cx=\"27\" cy=\"-18\" rx=\"27\" ry=\"18\"/>\n<text text-anchor=\"middle\" x=\"27\" y=\"-13.8\" font-family=\"Times,serif\" font-size=\"14.00\">1</text>\n</g>\n<!-- 140495967653440&#45;&gt;leaf&#45;0 -->\n<g id=\"edge1\" class=\"edge\">\n<title>140495967653440&#45;&gt;leaf&#45;0</title>\n<path fill=\"none\" stroke=\"black\" d=\"M162.46,-89.48C154.31,-88.8 115.56,-84.93 87.97,-70.8 73.53,-63.41 59.58,-51.98 48.67,-41.74\"/>\n<polygon fill=\"black\" stroke=\"black\" points=\"51.31,-39.42 41.71,-34.93 46.42,-44.43 51.31,-39.42\"/>\n<text text-anchor=\"middle\" x=\"108.02\" y=\"-58.2\" font-family=\"Times,serif\" font-size=\"14.00\">&#39;userId&#39;</text>\n</g>\n<!-- leaf&#45;1 -->\n<g id=\"node3\" class=\"node\">\n<title>leaf&#45;1</title>\n<ellipse fill=\"none\" stroke=\"black\" cx=\"99\" cy=\"-18\" rx=\"27\" ry=\"18\"/>\n<text text-anchor=\"middle\" x=\"99\" y=\"-13.8\" font-family=\"Times,serif\" font-size=\"14.00\">1</text>\n</g>\n<!-- 140495967653440&#45;&gt;leaf&#45;1 -->\n<g id=\"edge2\" class=\"edge\">\n<title>140495967653440&#45;&gt;leaf&#45;1</title>\n<path fill=\"none\" stroke=\"black\" d=\"M163.08,-88.6C158.44,-83.56 137.14,-60.42 120.35,-42.19\"/>\n<polygon fill=\"black\" stroke=\"black\" points=\"122.94,-39.83 113.59,-34.85 117.79,-44.57 122.94,-39.83\"/>\n<text text-anchor=\"middle\" x=\"154.97\" y=\"-58.2\" font-family=\"Times,serif\" font-size=\"14.00\">&#39;id&#39;</text>\n</g>\n<!-- leaf&#45;2 -->\n<g id=\"node4\" class=\"node\">\n<title>leaf&#45;2</title>\n<ellipse fill=\"none\" stroke=\"black\" cx=\"230\" cy=\"-18\" rx=\"86.26\" ry=\"18\"/>\n<text text-anchor=\"middle\" x=\"230\" y=\"-13.8\" font-family=\"Times,serif\" font-size=\"14.00\">&#39;delectus aut autem&#39;</text>\n</g>\n<!-- 140495967653440&#45;&gt;leaf&#45;2 -->\n<g id=\"edge3\" class=\"edge\">\n<title>140495967653440&#45;&gt;leaf&#45;2</title>\n<path fill=\"none\" stroke=\"black\" d=\"M164.93,-88.6C169.46,-83.76 189.57,-62.24 206.26,-44.4\"/>\n<polygon fill=\"black\" stroke=\"black\" points=\"208.78,-46.82 213.05,-37.13 203.67,-42.04 208.78,-46.82\"/>\n<text text-anchor=\"middle\" x=\"210.41\" y=\"-58.2\" font-family=\"Times,serif\" font-size=\"14.00\">&#39;title&#39;</text>\n</g>\n<!-- leaf&#45;3 -->\n<g id=\"node5\" class=\"node\">\n<title>leaf&#45;3</title>\n<ellipse fill=\"none\" stroke=\"black\" cx=\"366\" cy=\"-18\" rx=\"31.34\" ry=\"18\"/>\n<text text-anchor=\"middle\" x=\"366\" y=\"-13.8\" font-family=\"Times,serif\" font-size=\"14.00\">False</text>\n</g>\n<!-- 140495967653440&#45;&gt;leaf&#45;3 -->\n<g id=\"edge4\" class=\"edge\">\n<title>140495967653440&#45;&gt;leaf&#45;3</title>\n<path fill=\"none\" stroke=\"black\" d=\"M165.59,-89.17C172.83,-87.2 203.34,-78.84 228,-70.8 271.55,-56.61 282.28,-52.51 325,-36 326.91,-35.26 328.87,-34.49 330.84,-33.71\"/>\n<polygon fill=\"black\" stroke=\"black\" points=\"332.01,-37.01 339.96,-30.01 329.38,-30.52 332.01,-37.01\"/>\n<text text-anchor=\"middle\" x=\"308.68\" y=\"-58.2\" font-family=\"Times,serif\" font-size=\"14.00\">&#39;completed&#39;</text>\n</g>\n</g>\n</svg>\n",
      "text/plain": [
       "<graphviz.graphs.Digraph at 0x7fc7c43f0110>"
      ]
     },
     "execution_count": 18,
     "metadata": {},
     "output_type": "execute_result"
    }
   ],
   "source": [
    "build_graph(parsed_json)"
   ]
  },
  {
   "attachments": {},
   "cell_type": "markdown",
   "metadata": {},
   "source": [
    "## Example 4: A cyclic structure\n",
    "\n",
    "JSON prohibits this, but YAML permits it."
   ]
  },
  {
   "cell_type": "code",
   "execution_count": 35,
   "metadata": {},
   "outputs": [
    {
     "data": {
      "text/plain": [
       "[{'x': [[[[...]], []]]}]"
      ]
     },
     "execution_count": 35,
     "metadata": {},
     "output_type": "execute_result"
    }
   ],
   "source": [
    "cycle = [{}]\n",
    "cycle[0]['x'] = [[[cycle], []]]\n",
    "cycle"
   ]
  },
  {
   "cell_type": "code",
   "execution_count": 36,
   "metadata": {},
   "outputs": [
    {
     "name": "stdout",
     "output_type": "stream",
     "text": [
      "&id001\n",
      "- x:\n",
      "  - - - *id001\n",
      "    - []\n",
      "\n"
     ]
    }
   ],
   "source": [
    "raw_cycle = yaml.safe_dump(cycle)\n",
    "print(raw_cycle)"
   ]
  },
  {
   "cell_type": "code",
   "execution_count": 37,
   "metadata": {},
   "outputs": [
    {
     "data": {
      "text/plain": [
       "[{'x': [[[[...]], []]]}]"
      ]
     },
     "execution_count": 37,
     "metadata": {},
     "output_type": "execute_result"
    }
   ],
   "source": [
    "yaml.safe_load(raw_cycle)"
   ]
  },
  {
   "cell_type": "code",
   "execution_count": 38,
   "metadata": {},
   "outputs": [
    {
     "data": {
      "image/svg+xml": "<?xml version=\"1.0\" encoding=\"UTF-8\" standalone=\"no\"?>\n<!DOCTYPE svg PUBLIC \"-//W3C//DTD SVG 1.1//EN\"\n \"http://www.w3.org/Graphics/SVG/1.1/DTD/svg11.dtd\">\n<!-- Generated by graphviz version 7.1.0 (20230121.1956)\n -->\n<!-- Pages: 1 -->\n<svg width=\"60pt\" height=\"190pt\"\n viewBox=\"0.00 0.00 59.80 189.80\" xmlns=\"http://www.w3.org/2000/svg\" xmlns:xlink=\"http://www.w3.org/1999/xlink\">\n<g id=\"graph0\" class=\"graph\" transform=\"scale(1 1) rotate(0) translate(4 185.8)\">\n<polygon fill=\"white\" stroke=\"none\" points=\"-4,4 -4,-185.8 55.8,-185.8 55.8,4 -4,4\"/>\n<!-- 140495967555776 -->\n<g id=\"node1\" class=\"node\">\n<title>140495967555776</title>\n<ellipse fill=\"black\" stroke=\"black\" cx=\"36.8\" cy=\"-180\" rx=\"1.8\" ry=\"1.8\"/>\n</g>\n<!-- 140495967554496 -->\n<g id=\"node2\" class=\"node\">\n<title>140495967554496</title>\n<ellipse fill=\"black\" stroke=\"black\" cx=\"21.8\" cy=\"-139.4\" rx=\"1.8\" ry=\"1.8\"/>\n</g>\n<!-- 140495967555776&#45;&gt;140495967554496 -->\n<g id=\"edge1\" class=\"edge\">\n<title>140495967555776&#45;&gt;140495967554496</title>\n<path fill=\"none\" stroke=\"black\" d=\"M36.43,-178.05C35.04,-174.47 30.02,-161.56 26.25,-151.85\"/>\n<polygon fill=\"black\" stroke=\"black\" points=\"29.54,-150.65 22.65,-142.6 23.01,-153.19 29.54,-150.65\"/>\n</g>\n<!-- 140495967708288 -->\n<g id=\"node3\" class=\"node\">\n<title>140495967708288</title>\n<ellipse fill=\"black\" stroke=\"black\" cx=\"21.8\" cy=\"-83\" rx=\"1.8\" ry=\"1.8\"/>\n</g>\n<!-- 140495967554496&#45;&gt;140495967708288 -->\n<g id=\"edge2\" class=\"edge\">\n<title>140495967554496&#45;&gt;140495967708288</title>\n<path fill=\"none\" stroke=\"black\" d=\"M21.8,-137.46C21.8,-132.65 21.8,-110.56 21.8,-96.33\"/>\n<polygon fill=\"black\" stroke=\"black\" points=\"25.3,-96.66 21.8,-86.66 18.3,-96.66 25.3,-96.66\"/>\n<text text-anchor=\"middle\" x=\"27.82\" y=\"-107\" font-family=\"Times,serif\" font-size=\"14.00\">&#39;x&#39;</text>\n</g>\n<!-- 140495967562240 -->\n<g id=\"node4\" class=\"node\">\n<title>140495967562240</title>\n<ellipse fill=\"black\" stroke=\"black\" cx=\"21.8\" cy=\"-42.4\" rx=\"1.8\" ry=\"1.8\"/>\n</g>\n<!-- 140495967708288&#45;&gt;140495967562240 -->\n<g id=\"edge3\" class=\"edge\">\n<title>140495967708288&#45;&gt;140495967562240</title>\n<path fill=\"none\" stroke=\"black\" d=\"M21.8,-80.72C21.8,-76.83 21.8,-64.88 21.8,-55.54\"/>\n<polygon fill=\"black\" stroke=\"black\" points=\"25.3,-55.68 21.8,-45.68 18.3,-55.68 25.3,-55.68\"/>\n</g>\n<!-- 140495967559872 -->\n<g id=\"node5\" class=\"node\">\n<title>140495967559872</title>\n<ellipse fill=\"black\" stroke=\"black\" cx=\"38.8\" cy=\"-1.8\" rx=\"1.8\" ry=\"1.8\"/>\n</g>\n<!-- 140495967562240&#45;&gt;140495967559872 -->\n<g id=\"edge4\" class=\"edge\">\n<title>140495967562240&#45;&gt;140495967559872</title>\n<path fill=\"none\" stroke=\"black\" d=\"M22.22,-40.45C23.81,-36.83 29.61,-23.66 33.91,-13.91\"/>\n<polygon fill=\"black\" stroke=\"black\" points=\"37.02,-15.54 37.84,-4.97 30.61,-12.71 37.02,-15.54\"/>\n</g>\n<!-- 140495967558720 -->\n<g id=\"node6\" class=\"node\">\n<title>140495967558720</title>\n<ellipse fill=\"black\" stroke=\"black\" cx=\"1.8\" cy=\"-1.8\" rx=\"1.8\" ry=\"1.8\"/>\n</g>\n<!-- 140495967562240&#45;&gt;140495967558720 -->\n<g id=\"edge6\" class=\"edge\">\n<title>140495967562240&#45;&gt;140495967558720</title>\n<path fill=\"none\" stroke=\"black\" d=\"M21.31,-40.45C19.41,-36.78 12.45,-23.35 7.38,-13.57\"/>\n<polygon fill=\"black\" stroke=\"black\" points=\"10.61,-12.2 2.9,-4.93 4.4,-15.42 10.61,-12.2\"/>\n</g>\n<!-- 140495967559872&#45;&gt;140495967555776 -->\n<g id=\"edge5\" class=\"edge\">\n<title>140495967559872&#45;&gt;140495967555776</title>\n<path fill=\"none\" stroke=\"black\" d=\"M39.5,-3.95C42.2,-8.52 51.8,-25.84 51.8,-41.4 51.8,-140.4 51.8,-140.4 51.8,-140.4 51.8,-150.29 47.47,-160.69 43.47,-168.2\"/>\n<polygon fill=\"black\" stroke=\"black\" points=\"40.58,-166.2 38.39,-176.57 46.57,-169.83 40.58,-166.2\"/>\n</g>\n</g>\n</svg>\n",
      "text/plain": [
       "<graphviz.graphs.Digraph at 0x7fc7c43a1e50>"
      ]
     },
     "execution_count": 38,
     "metadata": {},
     "output_type": "execute_result"
    }
   ],
   "source": [
    "build_graph(cycle)"
   ]
  },
  {
   "cell_type": "code",
   "execution_count": null,
   "metadata": {},
   "outputs": [],
   "source": []
  }
 ],
 "metadata": {
  "kernelspec": {
   "display_name": "codegraph--SNbExDW",
   "language": "python",
   "name": "python3"
  },
  "language_info": {
   "codemirror_mode": {
    "name": "ipython",
    "version": 3
   },
   "file_extension": ".py",
   "mimetype": "text/x-python",
   "name": "python",
   "nbconvert_exporter": "python",
   "pygments_lexer": "ipython3",
   "version": "3.11.2"
  },
  "orig_nbformat": 4,
  "vscode": {
   "interpreter": {
    "hash": "ee43b59bb80ad44d9333a03997e6c21337c1eb163d373179bb5e4c37e0e055f3"
   }
  }
 },
 "nbformat": 4,
 "nbformat_minor": 2
}
