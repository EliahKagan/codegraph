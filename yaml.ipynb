{
 "cells": [
  {
   "attachments": {},
   "cell_type": "markdown",
   "metadata": {},
   "source": [
    "# Text and graphical YAML representations\n",
    "\n",
    "SPDX-License-Identifier: 0BSD"
   ]
  },
  {
   "cell_type": "code",
   "execution_count": 1,
   "metadata": {},
   "outputs": [],
   "source": [
    "from collections.abc import Mapping, Sequence\n",
    "import html\n",
    "import itertools\n",
    "import json\n",
    "import sys\n",
    "\n",
    "from graphviz import Digraph\n",
    "import requests\n",
    "from typeguard import typechecked\n",
    "import yaml"
   ]
  },
  {
   "cell_type": "code",
   "execution_count": 2,
   "metadata": {},
   "outputs": [
    {
     "ename": "TypeError",
     "evalue": "<module '__main__'> is a built-in module",
     "output_type": "error",
     "traceback": [
      "\u001b[0;31m---------------------------------------------------------------------------\u001b[0m",
      "\u001b[0;31mTypeError\u001b[0m                                 Traceback (most recent call last)",
      "Cell \u001b[0;32mIn[2], line 1\u001b[0m\n\u001b[0;32m----> 1\u001b[0m \u001b[39m@typechecked\u001b[39;49m\n\u001b[1;32m      2\u001b[0m \u001b[39mdef\u001b[39;49;00m \u001b[39mis_stringy\u001b[39;49m(obj: \u001b[39mobject\u001b[39;49m) \u001b[39m-\u001b[39;49m\u001b[39m>\u001b[39;49m \u001b[39mbool\u001b[39;49m:\n\u001b[1;32m      3\u001b[0m \u001b[39m    \u001b[39;49m\u001b[39m\"\"\"Check if obj is string-like.\"\"\"\u001b[39;49;00m\n\u001b[1;32m      4\u001b[0m     \u001b[39mreturn\u001b[39;49;00m \u001b[39misinstance\u001b[39;49m(obj, \u001b[39mbytearray\u001b[39;49m \u001b[39m|\u001b[39;49m \u001b[39mbytes\u001b[39;49m \u001b[39m|\u001b[39;49m \u001b[39mstr\u001b[39;49m)\n",
      "File \u001b[0;32m~/miniforge3/envs/codegraph/lib/python3.11/site-packages/typeguard/_decorators.py:213\u001b[0m, in \u001b[0;36mtypechecked\u001b[0;34m(target, forward_ref_policy, typecheck_fail_callback, collection_check_strategy, debug_instrumentation)\u001b[0m\n\u001b[1;32m    210\u001b[0m     wrapper_class \u001b[39m=\u001b[39m target\u001b[39m.\u001b[39m\u001b[39m__class__\u001b[39m\n\u001b[1;32m    211\u001b[0m     target \u001b[39m=\u001b[39m target\u001b[39m.\u001b[39m\u001b[39m__func__\u001b[39m\n\u001b[0;32m--> 213\u001b[0m retval \u001b[39m=\u001b[39m instrument(target)\n\u001b[1;32m    214\u001b[0m \u001b[39mif\u001b[39;00m \u001b[39misinstance\u001b[39m(retval, \u001b[39mstr\u001b[39m):\n\u001b[1;32m    215\u001b[0m     warn(\n\u001b[1;32m    216\u001b[0m         \u001b[39mf\u001b[39m\u001b[39m\"\u001b[39m\u001b[39m{\u001b[39;00mretval\u001b[39m}\u001b[39;00m\u001b[39m -- not typechecking \u001b[39m\u001b[39m{\u001b[39;00mfunction_name(target)\u001b[39m}\u001b[39;00m\u001b[39m\"\u001b[39m,\n\u001b[1;32m    217\u001b[0m         InstrumentationWarning,\n\u001b[1;32m    218\u001b[0m         stacklevel\u001b[39m=\u001b[39mget_stacklevel(),\n\u001b[1;32m    219\u001b[0m     )\n",
      "File \u001b[0;32m~/miniforge3/envs/codegraph/lib/python3.11/site-packages/typeguard/_decorators.py:51\u001b[0m, in \u001b[0;36minstrument\u001b[0;34m(f)\u001b[0m\n\u001b[1;32m     45\u001b[0m     \u001b[39mreturn\u001b[39;00m (\n\u001b[1;32m     46\u001b[0m         \u001b[39m\"\u001b[39m\u001b[39m@typechecked only supports instrumenting functions wrapped with \u001b[39m\u001b[39m\"\u001b[39m\n\u001b[1;32m     47\u001b[0m         \u001b[39m\"\u001b[39m\u001b[39m@classmethod, @staticmethod or @property\u001b[39m\u001b[39m\"\u001b[39m\n\u001b[1;32m     48\u001b[0m     )\n\u001b[1;32m     50\u001b[0m target_path \u001b[39m=\u001b[39m [item \u001b[39mfor\u001b[39;00m item \u001b[39min\u001b[39;00m f\u001b[39m.\u001b[39m\u001b[39m__qualname__\u001b[39m\u001b[39m.\u001b[39msplit(\u001b[39m\"\u001b[39m\u001b[39m.\u001b[39m\u001b[39m\"\u001b[39m) \u001b[39mif\u001b[39;00m item \u001b[39m!=\u001b[39m \u001b[39m\"\u001b[39m\u001b[39m<locals>\u001b[39m\u001b[39m\"\u001b[39m]\n\u001b[0;32m---> 51\u001b[0m module_source \u001b[39m=\u001b[39m inspect\u001b[39m.\u001b[39;49mgetsource(sys\u001b[39m.\u001b[39;49mmodules[f\u001b[39m.\u001b[39;49m\u001b[39m__module__\u001b[39;49m])\n\u001b[1;32m     52\u001b[0m module_ast \u001b[39m=\u001b[39m ast\u001b[39m.\u001b[39mparse(module_source)\n\u001b[1;32m     53\u001b[0m instrumentor \u001b[39m=\u001b[39m TypeguardTransformer(target_path)\n",
      "File \u001b[0;32m~/miniforge3/envs/codegraph/lib/python3.11/inspect.py:1262\u001b[0m, in \u001b[0;36mgetsource\u001b[0;34m(object)\u001b[0m\n\u001b[1;32m   1256\u001b[0m \u001b[39mdef\u001b[39;00m \u001b[39mgetsource\u001b[39m(\u001b[39mobject\u001b[39m):\n\u001b[1;32m   1257\u001b[0m \u001b[39m    \u001b[39m\u001b[39m\"\"\"Return the text of the source code for an object.\u001b[39;00m\n\u001b[1;32m   1258\u001b[0m \n\u001b[1;32m   1259\u001b[0m \u001b[39m    The argument may be a module, class, method, function, traceback, frame,\u001b[39;00m\n\u001b[1;32m   1260\u001b[0m \u001b[39m    or code object.  The source code is returned as a single string.  An\u001b[39;00m\n\u001b[1;32m   1261\u001b[0m \u001b[39m    OSError is raised if the source code cannot be retrieved.\"\"\"\u001b[39;00m\n\u001b[0;32m-> 1262\u001b[0m     lines, lnum \u001b[39m=\u001b[39m getsourcelines(\u001b[39mobject\u001b[39;49m)\n\u001b[1;32m   1263\u001b[0m     \u001b[39mreturn\u001b[39;00m \u001b[39m'\u001b[39m\u001b[39m'\u001b[39m\u001b[39m.\u001b[39mjoin(lines)\n",
      "File \u001b[0;32m~/miniforge3/envs/codegraph/lib/python3.11/inspect.py:1244\u001b[0m, in \u001b[0;36mgetsourcelines\u001b[0;34m(object)\u001b[0m\n\u001b[1;32m   1236\u001b[0m \u001b[39m\u001b[39m\u001b[39m\"\"\"Return a list of source lines and starting line number for an object.\u001b[39;00m\n\u001b[1;32m   1237\u001b[0m \n\u001b[1;32m   1238\u001b[0m \u001b[39mThe argument may be a module, class, method, function, traceback, frame,\u001b[39;00m\n\u001b[0;32m   (...)\u001b[0m\n\u001b[1;32m   1241\u001b[0m \u001b[39moriginal source file the first line of code was found.  An OSError is\u001b[39;00m\n\u001b[1;32m   1242\u001b[0m \u001b[39mraised if the source code cannot be retrieved.\"\"\"\u001b[39;00m\n\u001b[1;32m   1243\u001b[0m \u001b[39mobject\u001b[39m \u001b[39m=\u001b[39m unwrap(\u001b[39mobject\u001b[39m)\n\u001b[0;32m-> 1244\u001b[0m lines, lnum \u001b[39m=\u001b[39m findsource(\u001b[39mobject\u001b[39;49m)\n\u001b[1;32m   1246\u001b[0m \u001b[39mif\u001b[39;00m istraceback(\u001b[39mobject\u001b[39m):\n\u001b[1;32m   1247\u001b[0m     \u001b[39mobject\u001b[39m \u001b[39m=\u001b[39m \u001b[39mobject\u001b[39m\u001b[39m.\u001b[39mtb_frame\n",
      "File \u001b[0;32m~/miniforge3/envs/codegraph/lib/python3.11/inspect.py:1063\u001b[0m, in \u001b[0;36mfindsource\u001b[0;34m(object)\u001b[0m\n\u001b[1;32m   1055\u001b[0m \u001b[39mdef\u001b[39;00m \u001b[39mfindsource\u001b[39m(\u001b[39mobject\u001b[39m):\n\u001b[1;32m   1056\u001b[0m \u001b[39m    \u001b[39m\u001b[39m\"\"\"Return the entire source file and starting line number for an object.\u001b[39;00m\n\u001b[1;32m   1057\u001b[0m \n\u001b[1;32m   1058\u001b[0m \u001b[39m    The argument may be a module, class, method, function, traceback, frame,\u001b[39;00m\n\u001b[1;32m   1059\u001b[0m \u001b[39m    or code object.  The source code is returned as a list of all the lines\u001b[39;00m\n\u001b[1;32m   1060\u001b[0m \u001b[39m    in the file and the line number indexes a line in that list.  An OSError\u001b[39;00m\n\u001b[1;32m   1061\u001b[0m \u001b[39m    is raised if the source code cannot be retrieved.\"\"\"\u001b[39;00m\n\u001b[0;32m-> 1063\u001b[0m     file \u001b[39m=\u001b[39m getsourcefile(\u001b[39mobject\u001b[39;49m)\n\u001b[1;32m   1064\u001b[0m     \u001b[39mif\u001b[39;00m file:\n\u001b[1;32m   1065\u001b[0m         \u001b[39m# Invalidate cache if needed.\u001b[39;00m\n\u001b[1;32m   1066\u001b[0m         linecache\u001b[39m.\u001b[39mcheckcache(file)\n",
      "File \u001b[0;32m~/miniforge3/envs/codegraph/lib/python3.11/inspect.py:940\u001b[0m, in \u001b[0;36mgetsourcefile\u001b[0;34m(object)\u001b[0m\n\u001b[1;32m    936\u001b[0m \u001b[39mdef\u001b[39;00m \u001b[39mgetsourcefile\u001b[39m(\u001b[39mobject\u001b[39m):\n\u001b[1;32m    937\u001b[0m \u001b[39m    \u001b[39m\u001b[39m\"\"\"Return the filename that can be used to locate an object's source.\u001b[39;00m\n\u001b[1;32m    938\u001b[0m \u001b[39m    Return None if no way can be identified to get the source.\u001b[39;00m\n\u001b[1;32m    939\u001b[0m \u001b[39m    \"\"\"\u001b[39;00m\n\u001b[0;32m--> 940\u001b[0m     filename \u001b[39m=\u001b[39m getfile(\u001b[39mobject\u001b[39;49m)\n\u001b[1;32m    941\u001b[0m     all_bytecode_suffixes \u001b[39m=\u001b[39m importlib\u001b[39m.\u001b[39mmachinery\u001b[39m.\u001b[39mDEBUG_BYTECODE_SUFFIXES[:]\n\u001b[1;32m    942\u001b[0m     all_bytecode_suffixes \u001b[39m+\u001b[39m\u001b[39m=\u001b[39m importlib\u001b[39m.\u001b[39mmachinery\u001b[39m.\u001b[39mOPTIMIZED_BYTECODE_SUFFIXES[:]\n",
      "File \u001b[0;32m~/miniforge3/envs/codegraph/lib/python3.11/inspect.py:901\u001b[0m, in \u001b[0;36mgetfile\u001b[0;34m(object)\u001b[0m\n\u001b[1;32m    899\u001b[0m     \u001b[39mif\u001b[39;00m \u001b[39mgetattr\u001b[39m(\u001b[39mobject\u001b[39m, \u001b[39m'\u001b[39m\u001b[39m__file__\u001b[39m\u001b[39m'\u001b[39m, \u001b[39mNone\u001b[39;00m):\n\u001b[1;32m    900\u001b[0m         \u001b[39mreturn\u001b[39;00m \u001b[39mobject\u001b[39m\u001b[39m.\u001b[39m\u001b[39m__file__\u001b[39m\n\u001b[0;32m--> 901\u001b[0m     \u001b[39mraise\u001b[39;00m \u001b[39mTypeError\u001b[39;00m(\u001b[39m'\u001b[39m\u001b[39m{!r}\u001b[39;00m\u001b[39m is a built-in module\u001b[39m\u001b[39m'\u001b[39m\u001b[39m.\u001b[39mformat(\u001b[39mobject\u001b[39m))\n\u001b[1;32m    902\u001b[0m \u001b[39mif\u001b[39;00m isclass(\u001b[39mobject\u001b[39m):\n\u001b[1;32m    903\u001b[0m     \u001b[39mif\u001b[39;00m \u001b[39mhasattr\u001b[39m(\u001b[39mobject\u001b[39m, \u001b[39m'\u001b[39m\u001b[39m__module__\u001b[39m\u001b[39m'\u001b[39m):\n",
      "\u001b[0;31mTypeError\u001b[0m: <module '__main__'> is a built-in module"
     ]
    }
   ],
   "source": [
    "@typechecked\n",
    "def is_stringy(obj: object) -> bool:\n",
    "    \"\"\"Check if obj is string-like.\"\"\"\n",
    "    return isinstance(obj, bytearray | bytes | str)"
   ]
  },
  {
   "cell_type": "code",
   "execution_count": null,
   "metadata": {},
   "outputs": [],
   "source": [
    "@typechecked\n",
    "def is_scalar(obj: object) -> bool:\n",
    "    \"\"\"Check if obj is an instance of a scalar type.\"\"\"\n",
    "    return (not isinstance(obj, Mapping | Sequence)\n",
    "            or isinstance(obj, bytearray | bytes | str))"
   ]
  },
  {
   "cell_type": "code",
   "execution_count": null,
   "metadata": {},
   "outputs": [],
   "source": [
    "@typechecked\n",
    "def make_label(obj: object) -> str:\n",
    "    \"\"\"Make an HTML-escaped vertex or edge label showing the repr of obj.\"\"\"\n",
    "    return html.escape(repr(obj))"
   ]
  },
  {
   "cell_type": "code",
   "execution_count": null,
   "metadata": {},
   "outputs": [],
   "source": [
    "@typechecked\n",
    "def build_graph(root: object) -> Digraph:\n",
    "    \"\"\"Build a digraph of references that may be deserialized YAML.\"\"\"\n",
    "    vis = dict[int, object]()  # Stores visitation info and keeps objects alive.\n",
    "    graph = Digraph()\n",
    "    leaf_counter = itertools.count()\n",
    "    no_key = object()\n",
    "\n",
    "    @typechecked\n",
    "    def add_edge(parent_name: str | None,\n",
    "                 current_name: str,\n",
    "                 current_key: object) -> None:\n",
    "        if parent_name is None:\n",
    "            return\n",
    "\n",
    "        if current_key is no_key:\n",
    "            graph.edge(parent_name, current_name)\n",
    "        else:\n",
    "            graph.edge(parent_name, current_name, make_label(current_key))\n",
    "\n",
    "    @typechecked\n",
    "    def dfs(parent_name: str | None,\n",
    "            current_key: object,\n",
    "            current_value: object) -> None:\n",
    "        if is_scalar(current_value):\n",
    "            current_name = f'leaf-{next(leaf_counter)}'\n",
    "            graph.node(current_name, label=make_label(current_value))\n",
    "            add_edge(parent_name, current_name, current_key)\n",
    "            return\n",
    "        \n",
    "        current_id = id(current_value)\n",
    "        current_name = str(current_id)\n",
    "        seen_before = current_id in vis\n",
    "\n",
    "        if not seen_before:\n",
    "            vis[current_id] = current_value\n",
    "            graph.node(current_name, shape='point')\n",
    "\n",
    "        add_edge(parent_name, current_name, current_key)\n",
    "\n",
    "        if seen_before:\n",
    "            return\n",
    "        \n",
    "        match current_value:\n",
    "            case Mapping():\n",
    "                for child_key, child_value in current_value.items():\n",
    "                    dfs(current_name, child_key, child_value)\n",
    "            case Sequence():\n",
    "                for child_value in current_value:\n",
    "                    dfs(current_name, no_key, child_value)\n",
    "    \n",
    "    dfs(None, no_key, root)\n",
    "    return graph"
   ]
  },
  {
   "attachments": {},
   "cell_type": "markdown",
   "metadata": {},
   "source": [
    "## Example 1: A simple `environment.yml`"
   ]
  },
  {
   "cell_type": "code",
   "execution_count": null,
   "metadata": {},
   "outputs": [],
   "source": [
    "with open('environment.yml', encoding='utf-8') as file:\n",
    "    conda_env_def_raw = file.read()\n",
    "\n",
    "print(conda_env_def_raw)"
   ]
  },
  {
   "cell_type": "code",
   "execution_count": null,
   "metadata": {},
   "outputs": [],
   "source": [
    "conda_env_def = yaml.safe_load(conda_env_def_raw)\n",
    "conda_env_def"
   ]
  },
  {
   "cell_type": "code",
   "execution_count": null,
   "metadata": {},
   "outputs": [],
   "source": [
    "json.dump(conda_env_def, sys.stdout, indent=4)"
   ]
  },
  {
   "cell_type": "code",
   "execution_count": null,
   "metadata": {},
   "outputs": [],
   "source": [
    "build_graph(conda_env_def)"
   ]
  },
  {
   "attachments": {},
   "cell_type": "markdown",
   "metadata": {},
   "source": [
    "## Example 2: A `codeql.yml` file\n",
    "\n",
    "*A file defining a CodeQL CI workflow for GitHub Actions.*"
   ]
  },
  {
   "cell_type": "code",
   "execution_count": null,
   "metadata": {},
   "outputs": [],
   "source": [
    "response = requests.get(\n",
    "    'https://raw.githubusercontent.com/EliahKagan/palgoviz/main/.github/workflows/codeql.yml',\n",
    ")\n",
    "response.raise_for_status()\n",
    "codeql_raw = response.text\n",
    "print(codeql_raw)"
   ]
  },
  {
   "cell_type": "code",
   "execution_count": null,
   "metadata": {},
   "outputs": [],
   "source": [
    "codeql = yaml.safe_load(codeql_raw)\n",
    "codeql"
   ]
  },
  {
   "cell_type": "code",
   "execution_count": null,
   "metadata": {},
   "outputs": [],
   "source": [
    "json.dump(codeql, sys.stdout, indent=4)"
   ]
  },
  {
   "cell_type": "code",
   "execution_count": null,
   "metadata": {},
   "outputs": [],
   "source": [
    "build_graph(codeql)"
   ]
  },
  {
   "attachments": {},
   "cell_type": "markdown",
   "metadata": {},
   "source": [
    "## Example 3: Data from a REST API\n",
    "\n",
    "A REST API returns (and accepts) data as JSON, not YAML..."
   ]
  },
  {
   "cell_type": "code",
   "execution_count": null,
   "metadata": {},
   "outputs": [],
   "source": [
    "response = requests.get('https://jsonplaceholder.typicode.com/todos/1')\n",
    "response.raise_for_status()\n",
    "parsed_json = response.json()\n",
    "parsed_json"
   ]
  },
  {
   "attachments": {},
   "cell_type": "markdown",
   "metadata": {},
   "source": [
    "...except that YAML also accepts the JSON syntax, so any valid JSON is also valid YAML:"
   ]
  },
  {
   "cell_type": "code",
   "execution_count": null,
   "metadata": {},
   "outputs": [],
   "source": [
    "yaml_from_json = yaml.safe_dump(parsed_json)\n",
    "print(yaml_from_json)"
   ]
  },
  {
   "cell_type": "code",
   "execution_count": null,
   "metadata": {},
   "outputs": [],
   "source": [
    "parsed_yaml = yaml.safe_load(yaml_from_json)"
   ]
  },
  {
   "cell_type": "code",
   "execution_count": null,
   "metadata": {},
   "outputs": [],
   "source": [
    "parsed_json == parsed_yaml"
   ]
  },
  {
   "cell_type": "code",
   "execution_count": null,
   "metadata": {},
   "outputs": [],
   "source": [
    "build_graph(parsed_json)"
   ]
  },
  {
   "attachments": {},
   "cell_type": "markdown",
   "metadata": {},
   "source": [
    "## Example 4: A cyclic structure\n",
    "\n",
    "JSON prohibits this, but YAML permits it."
   ]
  },
  {
   "cell_type": "code",
   "execution_count": null,
   "metadata": {},
   "outputs": [],
   "source": [
    "cycle = [{}]\n",
    "cycle[0]['x'] = [[[cycle], []]]\n",
    "cycle"
   ]
  },
  {
   "cell_type": "code",
   "execution_count": null,
   "metadata": {},
   "outputs": [],
   "source": [
    "raw_cycle = yaml.safe_dump(cycle)\n",
    "print(raw_cycle)"
   ]
  },
  {
   "cell_type": "code",
   "execution_count": null,
   "metadata": {},
   "outputs": [],
   "source": [
    "yaml.safe_load(raw_cycle)"
   ]
  },
  {
   "cell_type": "code",
   "execution_count": null,
   "metadata": {},
   "outputs": [],
   "source": [
    "build_graph(cycle)"
   ]
  },
  {
   "cell_type": "code",
   "execution_count": null,
   "metadata": {},
   "outputs": [],
   "source": []
  }
 ],
 "metadata": {
  "kernelspec": {
   "display_name": "codegraph--SNbExDW",
   "language": "python",
   "name": "python3"
  },
  "language_info": {
   "codemirror_mode": {
    "name": "ipython",
    "version": 3
   },
   "file_extension": ".py",
   "mimetype": "text/x-python",
   "name": "python",
   "nbconvert_exporter": "python",
   "pygments_lexer": "ipython3",
   "version": "3.11.4"
  },
  "orig_nbformat": 4,
  "vscode": {
   "interpreter": {
    "hash": "ee43b59bb80ad44d9333a03997e6c21337c1eb163d373179bb5e4c37e0e055f3"
   }
  }
 },
 "nbformat": 4,
 "nbformat_minor": 2
}
