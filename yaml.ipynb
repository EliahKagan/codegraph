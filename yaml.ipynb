{
 "cells": [
  {
   "attachments": {},
   "cell_type": "markdown",
   "metadata": {},
   "source": [
    "# Text and graphical YAML representations\n",
    "\n",
    "SPDX-License-Identifier: 0BSD"
   ]
  },
  {
   "cell_type": "code",
   "execution_count": 1,
   "metadata": {},
   "outputs": [],
   "source": [
    "import json\n",
    "import sys\n",
    "\n",
    "import requests\n",
    "import yaml"
   ]
  },
  {
   "cell_type": "code",
   "execution_count": 2,
   "metadata": {},
   "outputs": [],
   "source": [
    "# FIXME: Define a function to draw nested and possibly cyclic rooted graphs of\n",
    "#        objects each of which is a bool, number, string, list, or dict."
   ]
  },
  {
   "attachments": {},
   "cell_type": "markdown",
   "metadata": {},
   "source": [
    "## Example 1: A simple `environment.yml`"
   ]
  },
  {
   "cell_type": "code",
   "execution_count": 3,
   "metadata": {},
   "outputs": [
    {
     "name": "stdout",
     "output_type": "stream",
     "text": [
      "name: codegraph\n",
      "\n",
      "channels:\n",
      "  - conda-forge\n",
      "\n",
      "dependencies:\n",
      "  - python=3.11\n",
      "  - graphviz\n",
      "  - ipykernel\n",
      "  - jupyterlab>=3.1\n",
      "  - nbdime\n",
      "  - pygit2\n",
      "  - python-graphviz\n",
      "  - pyyaml\n",
      "  - typeguard\n",
      "\n"
     ]
    }
   ],
   "source": [
    "with open('environment.yml', encoding='utf-8') as file:\n",
    "    conda_env_def_raw = file.read()\n",
    "\n",
    "print(conda_env_def_raw)"
   ]
  },
  {
   "cell_type": "code",
   "execution_count": 4,
   "metadata": {},
   "outputs": [
    {
     "data": {
      "text/plain": [
       "{'name': 'codegraph',\n",
       " 'channels': ['conda-forge'],\n",
       " 'dependencies': ['python=3.11',\n",
       "  'graphviz',\n",
       "  'ipykernel',\n",
       "  'jupyterlab>=3.1',\n",
       "  'nbdime',\n",
       "  'pygit2',\n",
       "  'python-graphviz',\n",
       "  'pyyaml',\n",
       "  'typeguard']}"
      ]
     },
     "execution_count": 4,
     "metadata": {},
     "output_type": "execute_result"
    }
   ],
   "source": [
    "conda_env_def = yaml.safe_load(conda_env_def_raw)\n",
    "conda_env_def"
   ]
  },
  {
   "cell_type": "code",
   "execution_count": 5,
   "metadata": {},
   "outputs": [
    {
     "name": "stdout",
     "output_type": "stream",
     "text": [
      "{\n",
      "    \"name\": \"codegraph\",\n",
      "    \"channels\": [\n",
      "        \"conda-forge\"\n",
      "    ],\n",
      "    \"dependencies\": [\n",
      "        \"python=3.11\",\n",
      "        \"graphviz\",\n",
      "        \"ipykernel\",\n",
      "        \"jupyterlab>=3.1\",\n",
      "        \"nbdime\",\n",
      "        \"pygit2\",\n",
      "        \"python-graphviz\",\n",
      "        \"pyyaml\",\n",
      "        \"typeguard\"\n",
      "    ]\n",
      "}"
     ]
    }
   ],
   "source": [
    "json.dump(conda_env_def, sys.stdout, indent=4)"
   ]
  },
  {
   "cell_type": "code",
   "execution_count": 6,
   "metadata": {},
   "outputs": [],
   "source": [
    "# FIXME: Put a drawing here."
   ]
  },
  {
   "attachments": {},
   "cell_type": "markdown",
   "metadata": {},
   "source": [
    "## Example 2: A `codeql.yml` file\n",
    "\n",
    "*A file defining a CodeQL CI workflow for GitHub Actions.*"
   ]
  },
  {
   "cell_type": "code",
   "execution_count": 7,
   "metadata": {},
   "outputs": [
    {
     "name": "stdout",
     "output_type": "stream",
     "text": [
      "name: CodeQL\n",
      "\n",
      "on:\n",
      "  push:\n",
      "  pull_request:\n",
      "  schedule:\n",
      "    - cron: '39 4 * * 5'\n",
      "\n",
      "jobs:\n",
      "  analyze:\n",
      "    name: Analyze\n",
      "    runs-on: ubuntu-latest\n",
      "    permissions:\n",
      "      actions: read\n",
      "      contents: read\n",
      "      security-events: write\n",
      "\n",
      "    strategy:\n",
      "      fail-fast: false\n",
      "      matrix:\n",
      "        language: [ 'python' ]\n",
      "        # CodeQL supports [ 'cpp', 'csharp', 'go', 'java', 'javascript', 'python', 'ruby' ]\n",
      "        # Use only 'java' to analyze code written in Java, Kotlin or both\n",
      "        # Use only 'javascript' to analyze code written in JavaScript, TypeScript or both\n",
      "        # Learn more about CodeQL language support at https://aka.ms/codeql-docs/language-support\n",
      "\n",
      "    steps:\n",
      "    - name: Checkout repository\n",
      "      uses: actions/checkout@v3\n",
      "\n",
      "    - name: Set up Python\n",
      "      uses: actions/setup-python@v4\n",
      "      with:\n",
      "        python-version: 3.11\n",
      "\n",
      "    # Initializes the CodeQL tools for scanning.\n",
      "    - name: Initialize CodeQL\n",
      "      uses: github/codeql-action/init@v2\n",
      "      with:\n",
      "        languages: ${{ matrix.language }}\n",
      "        # If you wish to specify custom queries, you can do so here or in a config file.\n",
      "        # By default, queries listed here will override any specified in a config file.\n",
      "        # Prefix the list here with \"+\" to use these queries and those in the config file.\n",
      "\n",
      "        # Details on CodeQL's query packs refer to : https://docs.github.com/en/code-security/code-scanning/automatically-scanning-your-code-for-vulnerabilities-and-errors/configuring-code-scanning#using-queries-in-ql-packs\n",
      "        # queries: security-extended,security-and-quality\n",
      "\n",
      "\n",
      "    # Autobuild attempts to build any compiled languages  (C/C++, C#, Go, or Java).\n",
      "    # If this step fails, then you should remove it and run the build manually (see below)\n",
      "    - name: Autobuild\n",
      "      uses: github/codeql-action/autobuild@v2\n",
      "\n",
      "    # ℹ️ Command-line programs to run using the OS shell.\n",
      "    # 📚 See https://docs.github.com/en/actions/using-workflows/workflow-syntax-for-github-actions#jobsjob_idstepsrun\n",
      "\n",
      "    #   If the Autobuild fails above, remove it and uncomment the following three lines.\n",
      "    #   modify them (or add more) to build your code if your project, please refer to the EXAMPLE below for guidance.\n",
      "\n",
      "    # - run: |\n",
      "    #   echo \"Run, Build Application using script\"\n",
      "    #   ./location_of_script_within_repo/buildscript.sh\n",
      "\n",
      "    - name: Perform CodeQL Analysis\n",
      "      uses: github/codeql-action/analyze@v2\n",
      "      with:\n",
      "        category: \"/language:${{matrix.language}}\"\n",
      "\n"
     ]
    }
   ],
   "source": [
    "response = requests.get(\n",
    "    'https://raw.githubusercontent.com/EliahKagan/palgoviz/main/.github/workflows/codeql.yml',\n",
    ")\n",
    "response.raise_for_status()\n",
    "codeql_raw = response.text\n",
    "print(codeql_raw)"
   ]
  },
  {
   "cell_type": "code",
   "execution_count": 8,
   "metadata": {},
   "outputs": [
    {
     "data": {
      "text/plain": [
       "{'name': 'CodeQL',\n",
       " True: {'push': None,\n",
       "  'pull_request': None,\n",
       "  'schedule': [{'cron': '39 4 * * 5'}]},\n",
       " 'jobs': {'analyze': {'name': 'Analyze',\n",
       "   'runs-on': 'ubuntu-latest',\n",
       "   'permissions': {'actions': 'read',\n",
       "    'contents': 'read',\n",
       "    'security-events': 'write'},\n",
       "   'strategy': {'fail-fast': False, 'matrix': {'language': ['python']}},\n",
       "   'steps': [{'name': 'Checkout repository', 'uses': 'actions/checkout@v3'},\n",
       "    {'name': 'Set up Python',\n",
       "     'uses': 'actions/setup-python@v4',\n",
       "     'with': {'python-version': 3.11}},\n",
       "    {'name': 'Initialize CodeQL',\n",
       "     'uses': 'github/codeql-action/init@v2',\n",
       "     'with': {'languages': '${{ matrix.language }}'}},\n",
       "    {'name': 'Autobuild', 'uses': 'github/codeql-action/autobuild@v2'},\n",
       "    {'name': 'Perform CodeQL Analysis',\n",
       "     'uses': 'github/codeql-action/analyze@v2',\n",
       "     'with': {'category': '/language:${{matrix.language}}'}}]}}}"
      ]
     },
     "execution_count": 8,
     "metadata": {},
     "output_type": "execute_result"
    }
   ],
   "source": [
    "codeql = yaml.safe_load(codeql_raw)\n",
    "codeql"
   ]
  },
  {
   "cell_type": "code",
   "execution_count": 9,
   "metadata": {},
   "outputs": [
    {
     "name": "stdout",
     "output_type": "stream",
     "text": [
      "{\n",
      "    \"name\": \"CodeQL\",\n",
      "    \"true\": {\n",
      "        \"push\": null,\n",
      "        \"pull_request\": null,\n",
      "        \"schedule\": [\n",
      "            {\n",
      "                \"cron\": \"39 4 * * 5\"\n",
      "            }\n",
      "        ]\n",
      "    },\n",
      "    \"jobs\": {\n",
      "        \"analyze\": {\n",
      "            \"name\": \"Analyze\",\n",
      "            \"runs-on\": \"ubuntu-latest\",\n",
      "            \"permissions\": {\n",
      "                \"actions\": \"read\",\n",
      "                \"contents\": \"read\",\n",
      "                \"security-events\": \"write\"\n",
      "            },\n",
      "            \"strategy\": {\n",
      "                \"fail-fast\": false,\n",
      "                \"matrix\": {\n",
      "                    \"language\": [\n",
      "                        \"python\"\n",
      "                    ]\n",
      "                }\n",
      "            },\n",
      "            \"steps\": [\n",
      "                {\n",
      "                    \"name\": \"Checkout repository\",\n",
      "                    \"uses\": \"actions/checkout@v3\"\n",
      "                },\n",
      "                {\n",
      "                    \"name\": \"Set up Python\",\n",
      "                    \"uses\": \"actions/setup-python@v4\",\n",
      "                    \"with\": {\n",
      "                        \"python-version\": 3.11\n",
      "                    }\n",
      "                },\n",
      "                {\n",
      "                    \"name\": \"Initialize CodeQL\",\n",
      "                    \"uses\": \"github/codeql-action/init@v2\",\n",
      "                    \"with\": {\n",
      "                        \"languages\": \"${{ matrix.language }}\"\n",
      "                    }\n",
      "                },\n",
      "                {\n",
      "                    \"name\": \"Autobuild\",\n",
      "                    \"uses\": \"github/codeql-action/autobuild@v2\"\n",
      "                },\n",
      "                {\n",
      "                    \"name\": \"Perform CodeQL Analysis\",\n",
      "                    \"uses\": \"github/codeql-action/analyze@v2\",\n",
      "                    \"with\": {\n",
      "                        \"category\": \"/language:${{matrix.language}}\"\n",
      "                    }\n",
      "                }\n",
      "            ]\n",
      "        }\n",
      "    }\n",
      "}"
     ]
    }
   ],
   "source": [
    "json.dump(codeql, sys.stdout, indent=4)"
   ]
  },
  {
   "cell_type": "code",
   "execution_count": 10,
   "metadata": {},
   "outputs": [],
   "source": [
    "# FIXME: Put a drawing here."
   ]
  },
  {
   "attachments": {},
   "cell_type": "markdown",
   "metadata": {},
   "source": [
    "## Example 3: A cyclic structure\n",
    "\n",
    "JSON prohibits this, but YAML permits it."
   ]
  },
  {
   "cell_type": "code",
   "execution_count": 11,
   "metadata": {},
   "outputs": [
    {
     "data": {
      "text/plain": [
       "[{'xyz': [...]}]"
      ]
     },
     "execution_count": 11,
     "metadata": {},
     "output_type": "execute_result"
    }
   ],
   "source": [
    "cycle = [{}]\n",
    "cycle[0]['xyz'] = cycle\n",
    "cycle"
   ]
  },
  {
   "cell_type": "code",
   "execution_count": 12,
   "metadata": {},
   "outputs": [
    {
     "name": "stdout",
     "output_type": "stream",
     "text": [
      "&id001\n",
      "- xyz: *id001\n",
      "\n"
     ]
    }
   ],
   "source": [
    "raw_cycle = yaml.safe_dump(cycle)\n",
    "print(raw_cycle)"
   ]
  },
  {
   "cell_type": "code",
   "execution_count": 13,
   "metadata": {},
   "outputs": [
    {
     "data": {
      "text/plain": [
       "[{'xyz': [...]}]"
      ]
     },
     "execution_count": 13,
     "metadata": {},
     "output_type": "execute_result"
    }
   ],
   "source": [
    "yaml.safe_load(raw_cycle)"
   ]
  },
  {
   "cell_type": "code",
   "execution_count": 14,
   "metadata": {},
   "outputs": [],
   "source": [
    "# FIXME: Put a drawing here."
   ]
  }
 ],
 "metadata": {
  "kernelspec": {
   "display_name": "codegraph--SNbExDW",
   "language": "python",
   "name": "python3"
  },
  "language_info": {
   "codemirror_mode": {
    "name": "ipython",
    "version": 3
   },
   "file_extension": ".py",
   "mimetype": "text/x-python",
   "name": "python",
   "nbconvert_exporter": "python",
   "pygments_lexer": "ipython3",
   "version": "3.11.2"
  },
  "orig_nbformat": 4,
  "vscode": {
   "interpreter": {
    "hash": "ee43b59bb80ad44d9333a03997e6c21337c1eb163d373179bb5e4c37e0e055f3"
   }
  }
 },
 "nbformat": 4,
 "nbformat_minor": 2
}
